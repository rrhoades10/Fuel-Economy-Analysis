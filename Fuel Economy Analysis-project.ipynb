{
 "cells": [
  {
   "cell_type": "code",
   "execution_count": 1,
   "metadata": {},
   "outputs": [],
   "source": [
    "import pandas as pd\n",
    "import numpy as np\n",
    "%matplotlib inline\n",
    "import matplotlib.pyplot as plt"
   ]
  },
  {
   "cell_type": "code",
   "execution_count": 2,
   "metadata": {},
   "outputs": [],
   "source": [
    "df_08 = pd.read_csv('./all_alpha_08.csv', sep=',')\n",
    "df_18 = pd.read_csv('./all_alpha_18.csv', sep=',')"
   ]
  },
  {
   "cell_type": "code",
   "execution_count": 3,
   "metadata": {},
   "outputs": [],
   "source": [
    "df_08.rename(lambda c:c.replace(' ', '_'), axis=1, inplace=True)\n",
    "df_18.rename(lambda c:c.replace(' ', '_'), axis=1, inplace=True)"
   ]
  },
  {
   "cell_type": "code",
   "execution_count": 4,
   "metadata": {},
   "outputs": [
    {
     "name": "stdout",
     "output_type": "stream",
     "text": [
      "<class 'pandas.core.frame.DataFrame'>\n",
      "RangeIndex: 2404 entries, 0 to 2403\n",
      "Data columns (total 18 columns):\n",
      " #   Column                Non-Null Count  Dtype  \n",
      "---  ------                --------------  -----  \n",
      " 0   Model                 2404 non-null   object \n",
      " 1   Displ                 2404 non-null   float64\n",
      " 2   Cyl                   2205 non-null   object \n",
      " 3   Trans                 2205 non-null   object \n",
      " 4   Drive                 2311 non-null   object \n",
      " 5   Fuel                  2404 non-null   object \n",
      " 6   Sales_Area            2404 non-null   object \n",
      " 7   Stnd                  2404 non-null   object \n",
      " 8   Underhood_ID          2404 non-null   object \n",
      " 9   Veh_Class             2404 non-null   object \n",
      " 10  Air_Pollution_Score   2404 non-null   object \n",
      " 11  FE_Calc_Appr          2205 non-null   object \n",
      " 12  City_MPG              2205 non-null   object \n",
      " 13  Hwy_MPG               2205 non-null   object \n",
      " 14  Cmb_MPG               2205 non-null   object \n",
      " 15  Unadj_Cmb_MPG         2205 non-null   float64\n",
      " 16  Greenhouse_Gas_Score  2205 non-null   object \n",
      " 17  SmartWay              2404 non-null   object \n",
      "dtypes: float64(2), object(16)\n",
      "memory usage: 338.2+ KB\n"
     ]
    }
   ],
   "source": [
    "df_08.info()"
   ]
  },
  {
   "cell_type": "markdown",
   "metadata": {},
   "source": [
    "## Number of columns per dataset"
   ]
  },
  {
   "cell_type": "code",
   "execution_count": 5,
   "metadata": {},
   "outputs": [
    {
     "name": "stdout",
     "output_type": "stream",
     "text": [
      "18\n"
     ]
    }
   ],
   "source": [
    "#2008\n",
    "print(len(df_08.columns))"
   ]
  },
  {
   "cell_type": "code",
   "execution_count": 6,
   "metadata": {},
   "outputs": [
    {
     "name": "stdout",
     "output_type": "stream",
     "text": [
      "18\n"
     ]
    }
   ],
   "source": [
    "#2018\n",
    "print(len(df_18.columns))"
   ]
  },
  {
   "cell_type": "markdown",
   "metadata": {},
   "source": [
    "## Number of records per dataset"
   ]
  },
  {
   "cell_type": "code",
   "execution_count": 7,
   "metadata": {},
   "outputs": [
    {
     "data": {
      "text/plain": [
       "2404"
      ]
     },
     "execution_count": 7,
     "metadata": {},
     "output_type": "execute_result"
    }
   ],
   "source": [
    "#2008\n",
    "len(df_08.count(axis=1))"
   ]
  },
  {
   "cell_type": "code",
   "execution_count": 8,
   "metadata": {},
   "outputs": [
    {
     "data": {
      "text/plain": [
       "1611"
      ]
     },
     "execution_count": 8,
     "metadata": {},
     "output_type": "execute_result"
    }
   ],
   "source": [
    "#2018\n",
    "len(df_18.count(axis=1))"
   ]
  },
  {
   "cell_type": "markdown",
   "metadata": {},
   "source": [
    "## Number of duplicate rows"
   ]
  },
  {
   "cell_type": "code",
   "execution_count": 9,
   "metadata": {},
   "outputs": [
    {
     "data": {
      "text/plain": [
       "25"
      ]
     },
     "execution_count": 9,
     "metadata": {},
     "output_type": "execute_result"
    }
   ],
   "source": [
    "#2008 I thought i was being super clevel with this dumbass function and then\n",
    "# Derek whips out the df_08.duplicated().sum()....oh well, it was good practice\n",
    "is_duplicate08 = list(df_08.duplicated(subset=None, keep='first'))\n",
    "\n",
    "def find_duplicate(a_list):\n",
    "    duplicate = [i for i in a_list if i is True]\n",
    "    return len(duplicate)\n",
    "find_duplicate(is_duplicate08)\n",
    "\n",
    "\n"
   ]
  },
  {
   "cell_type": "code",
   "execution_count": 10,
   "metadata": {},
   "outputs": [
    {
     "data": {
      "text/plain": [
       "0"
      ]
     },
     "execution_count": 10,
     "metadata": {},
     "output_type": "execute_result"
    }
   ],
   "source": [
    "#2018\n",
    "is_duplicate18 = list(df_18.duplicated(subset=None, keep='first'))\n",
    "\n",
    "def find_duplicate(a_list):\n",
    "    duplicate = [i for i in a_list if i is True]\n",
    "    return len(duplicate)\n",
    "find_duplicate(is_duplicate18)\n"
   ]
  },
  {
   "cell_type": "markdown",
   "metadata": {},
   "source": [
    "## Features with missing values"
   ]
  },
  {
   "cell_type": "code",
   "execution_count": 11,
   "metadata": {},
   "outputs": [
    {
     "data": {
      "text/plain": [
       "Model                     0\n",
       "Displ                     0\n",
       "Cyl                     199\n",
       "Trans                   199\n",
       "Drive                    93\n",
       "Fuel                      0\n",
       "Sales_Area                0\n",
       "Stnd                      0\n",
       "Underhood_ID              0\n",
       "Veh_Class                 0\n",
       "Air_Pollution_Score       0\n",
       "FE_Calc_Appr            199\n",
       "City_MPG                199\n",
       "Hwy_MPG                 199\n",
       "Cmb_MPG                 199\n",
       "Unadj_Cmb_MPG           199\n",
       "Greenhouse_Gas_Score    199\n",
       "SmartWay                  0\n",
       "dtype: int64"
      ]
     },
     "execution_count": 11,
     "metadata": {},
     "output_type": "execute_result"
    }
   ],
   "source": [
    "df_08.isna().sum()"
   ]
  },
  {
   "cell_type": "code",
   "execution_count": 12,
   "metadata": {
    "scrolled": true
   },
   "outputs": [
    {
     "data": {
      "text/plain": [
       "Model                   0\n",
       "Displ                   2\n",
       "Cyl                     2\n",
       "Trans                   0\n",
       "Drive                   0\n",
       "Fuel                    0\n",
       "Cert_Region             0\n",
       "Stnd                    0\n",
       "Stnd_Description        0\n",
       "Underhood_ID            0\n",
       "Veh_Class               0\n",
       "Air_Pollution_Score     0\n",
       "City_MPG                0\n",
       "Hwy_MPG                 0\n",
       "Cmb_MPG                 0\n",
       "Greenhouse_Gas_Score    0\n",
       "SmartWay                0\n",
       "Comb_CO2                0\n",
       "dtype: int64"
      ]
     },
     "execution_count": 12,
     "metadata": {},
     "output_type": "execute_result"
    }
   ],
   "source": [
    "df_18.isna().sum()"
   ]
  },
  {
   "cell_type": "markdown",
   "metadata": {},
   "source": [
    "## Non-null unique values"
   ]
  },
  {
   "cell_type": "code",
   "execution_count": 13,
   "metadata": {},
   "outputs": [
    {
     "data": {
      "text/plain": [
       "1757"
      ]
     },
     "execution_count": 13,
     "metadata": {},
     "output_type": "execute_result"
    }
   ],
   "source": [
    "#2008\n",
    "df_08.nunique().sum()"
   ]
  },
  {
   "cell_type": "code",
   "execution_count": 14,
   "metadata": {},
   "outputs": [
    {
     "data": {
      "text/plain": [
       "1217"
      ]
     },
     "execution_count": 14,
     "metadata": {},
     "output_type": "execute_result"
    }
   ],
   "source": [
    "#2018\n",
    "df_18.nunique().sum()"
   ]
  },
  {
   "cell_type": "markdown",
   "metadata": {},
   "source": [
    "## Count of unique fuel types"
   ]
  },
  {
   "cell_type": "code",
   "execution_count": 15,
   "metadata": {},
   "outputs": [
    {
     "data": {
      "text/plain": [
       "Gasoline       2318\n",
       "ethanol/gas      72\n",
       "diesel           11\n",
       "CNG               2\n",
       "ethanol           1\n",
       "Name: Fuel, dtype: int64"
      ]
     },
     "execution_count": 15,
     "metadata": {},
     "output_type": "execute_result"
    }
   ],
   "source": [
    "#2008\n",
    "df_08['Fuel'].value_counts()"
   ]
  },
  {
   "cell_type": "code",
   "execution_count": 16,
   "metadata": {},
   "outputs": [
    {
     "data": {
      "text/plain": [
       "Gasoline                1492\n",
       "Ethanol/Gas               55\n",
       "Diesel                    38\n",
       "Gasoline/Electricity      24\n",
       "Electricity                2\n",
       "Name: Fuel, dtype: int64"
      ]
     },
     "execution_count": 16,
     "metadata": {},
     "output_type": "execute_result"
    }
   ],
   "source": [
    "#2018\n",
    "df_18['Fuel'].value_counts()"
   ]
  },
  {
   "cell_type": "markdown",
   "metadata": {},
   "source": [
    "## Drop unneeded columns"
   ]
  },
  {
   "cell_type": "code",
   "execution_count": null,
   "metadata": {},
   "outputs": [],
   "source": [
    "# We used a DataFrame.rename() method to pass a Python object into it (whether it's a list ot dictionary) that\n",
    "# allowed us to act on the column names themselves. There's another type of method that helps you delete entire\n",
    "# columns either. Find it and use it.\n"
   ]
  },
  {
   "cell_type": "code",
   "execution_count": 17,
   "metadata": {},
   "outputs": [],
   "source": [
    "df_08 = df_08.drop(['FE_Calc_Appr', 'Unadj_Cmb_MPG'], axis=1)\n",
    " \n",
    "\n"
   ]
  },
  {
   "cell_type": "code",
   "execution_count": 18,
   "metadata": {
    "scrolled": true
   },
   "outputs": [],
   "source": [
    "df_18 = df_18.drop(['Stnd_Description', 'Comb_CO2'], axis=1)\n"
   ]
  },
  {
   "cell_type": "markdown",
   "metadata": {},
   "source": [
    "## Rename 'Sales Area' column in 2008 dataframe"
   ]
  },
  {
   "cell_type": "code",
   "execution_count": 19,
   "metadata": {},
   "outputs": [],
   "source": [
    "# # Hint: You can use a lambda function\n",
    "df_08.rename(lambda c:c.replace('Sales_Area', 'Cert_Region'), axis=1, inplace=True)"
   ]
  },
  {
   "cell_type": "markdown",
   "metadata": {},
   "source": [
    "## Make more consistent column labels"
   ]
  },
  {
   "cell_type": "code",
   "execution_count": null,
   "metadata": {},
   "outputs": [],
   "source": [
    "#See Top of Page"
   ]
  },
  {
   "cell_type": "markdown",
   "metadata": {},
   "source": [
    "# Compare columns names and make sure they're the same"
   ]
  },
  {
   "cell_type": "code",
   "execution_count": 20,
   "metadata": {},
   "outputs": [
    {
     "data": {
      "text/plain": [
       "array([ True,  True,  True,  True,  True,  True,  True,  True,  True,\n",
       "        True,  True,  True,  True,  True,  True,  True])"
      ]
     },
     "execution_count": 20,
     "metadata": {},
     "output_type": "execute_result"
    }
   ],
   "source": [
    "df_08.columns == df_18.columns"
   ]
  },
  {
   "cell_type": "markdown",
   "metadata": {},
   "source": [
    "# CHECKPOINT: SAVE EVERYTHING THUS FAR INTO A DATAFRAME"
   ]
  },
  {
   "cell_type": "code",
   "execution_count": 21,
   "metadata": {},
   "outputs": [],
   "source": [
    "df_08.to_csv('df_08_v2.csv', index=False)\n",
    "df_18.to_csv('df_18_v2.csv', index=False)"
   ]
  },
  {
   "cell_type": "code",
   "execution_count": null,
   "metadata": {},
   "outputs": [],
   "source": [
    "df_08.head()"
   ]
  },
  {
   "cell_type": "markdown",
   "metadata": {},
   "source": [
    "## Only return records with a 'CA' cert_region"
   ]
  },
  {
   "cell_type": "code",
   "execution_count": 22,
   "metadata": {
    "scrolled": true
   },
   "outputs": [
    {
     "data": {
      "text/html": [
       "<div>\n",
       "<style scoped>\n",
       "    .dataframe tbody tr th:only-of-type {\n",
       "        vertical-align: middle;\n",
       "    }\n",
       "\n",
       "    .dataframe tbody tr th {\n",
       "        vertical-align: top;\n",
       "    }\n",
       "\n",
       "    .dataframe thead th {\n",
       "        text-align: right;\n",
       "    }\n",
       "</style>\n",
       "<table border=\"1\" class=\"dataframe\">\n",
       "  <thead>\n",
       "    <tr style=\"text-align: right;\">\n",
       "      <th></th>\n",
       "      <th>Model</th>\n",
       "      <th>Displ</th>\n",
       "      <th>Cyl</th>\n",
       "      <th>Trans</th>\n",
       "      <th>Drive</th>\n",
       "      <th>Fuel</th>\n",
       "      <th>Cert_Region</th>\n",
       "      <th>Stnd</th>\n",
       "      <th>Underhood_ID</th>\n",
       "      <th>Veh_Class</th>\n",
       "      <th>Air_Pollution_Score</th>\n",
       "      <th>City_MPG</th>\n",
       "      <th>Hwy_MPG</th>\n",
       "      <th>Cmb_MPG</th>\n",
       "      <th>Greenhouse_Gas_Score</th>\n",
       "      <th>SmartWay</th>\n",
       "    </tr>\n",
       "  </thead>\n",
       "  <tbody>\n",
       "    <tr>\n",
       "      <th>0</th>\n",
       "      <td>ACURA MDX</td>\n",
       "      <td>3.7</td>\n",
       "      <td>(6 cyl)</td>\n",
       "      <td>Auto-S5</td>\n",
       "      <td>4WD</td>\n",
       "      <td>Gasoline</td>\n",
       "      <td>CA</td>\n",
       "      <td>U2</td>\n",
       "      <td>8HNXT03.7PKR</td>\n",
       "      <td>SUV</td>\n",
       "      <td>7</td>\n",
       "      <td>15</td>\n",
       "      <td>20</td>\n",
       "      <td>17</td>\n",
       "      <td>4</td>\n",
       "      <td>no</td>\n",
       "    </tr>\n",
       "    <tr>\n",
       "      <th>2</th>\n",
       "      <td>ACURA RDX</td>\n",
       "      <td>2.3</td>\n",
       "      <td>(4 cyl)</td>\n",
       "      <td>Auto-S5</td>\n",
       "      <td>4WD</td>\n",
       "      <td>Gasoline</td>\n",
       "      <td>CA</td>\n",
       "      <td>U2</td>\n",
       "      <td>8HNXT02.3DKR</td>\n",
       "      <td>SUV</td>\n",
       "      <td>7</td>\n",
       "      <td>17</td>\n",
       "      <td>22</td>\n",
       "      <td>19</td>\n",
       "      <td>5</td>\n",
       "      <td>no</td>\n",
       "    </tr>\n",
       "    <tr>\n",
       "      <th>4</th>\n",
       "      <td>ACURA RL</td>\n",
       "      <td>3.5</td>\n",
       "      <td>(6 cyl)</td>\n",
       "      <td>Auto-S5</td>\n",
       "      <td>4WD</td>\n",
       "      <td>Gasoline</td>\n",
       "      <td>CA</td>\n",
       "      <td>U2</td>\n",
       "      <td>8HNXV03.5HKR</td>\n",
       "      <td>midsize car</td>\n",
       "      <td>7</td>\n",
       "      <td>16</td>\n",
       "      <td>24</td>\n",
       "      <td>19</td>\n",
       "      <td>5</td>\n",
       "      <td>no</td>\n",
       "    </tr>\n",
       "    <tr>\n",
       "      <th>6</th>\n",
       "      <td>ACURA TL</td>\n",
       "      <td>3.2</td>\n",
       "      <td>(6 cyl)</td>\n",
       "      <td>Auto-S5</td>\n",
       "      <td>2WD</td>\n",
       "      <td>Gasoline</td>\n",
       "      <td>CA</td>\n",
       "      <td>U2</td>\n",
       "      <td>8HNXV03.5HKR</td>\n",
       "      <td>midsize car</td>\n",
       "      <td>7</td>\n",
       "      <td>18</td>\n",
       "      <td>26</td>\n",
       "      <td>21</td>\n",
       "      <td>6</td>\n",
       "      <td>yes</td>\n",
       "    </tr>\n",
       "    <tr>\n",
       "      <th>7</th>\n",
       "      <td>ACURA TL</td>\n",
       "      <td>3.5</td>\n",
       "      <td>(6 cyl)</td>\n",
       "      <td>Auto-S5</td>\n",
       "      <td>2WD</td>\n",
       "      <td>Gasoline</td>\n",
       "      <td>CA</td>\n",
       "      <td>U2</td>\n",
       "      <td>8HNXV03.5RKR</td>\n",
       "      <td>midsize car</td>\n",
       "      <td>7</td>\n",
       "      <td>17</td>\n",
       "      <td>26</td>\n",
       "      <td>20</td>\n",
       "      <td>6</td>\n",
       "      <td>yes</td>\n",
       "    </tr>\n",
       "    <tr>\n",
       "      <th>...</th>\n",
       "      <td>...</td>\n",
       "      <td>...</td>\n",
       "      <td>...</td>\n",
       "      <td>...</td>\n",
       "      <td>...</td>\n",
       "      <td>...</td>\n",
       "      <td>...</td>\n",
       "      <td>...</td>\n",
       "      <td>...</td>\n",
       "      <td>...</td>\n",
       "      <td>...</td>\n",
       "      <td>...</td>\n",
       "      <td>...</td>\n",
       "      <td>...</td>\n",
       "      <td>...</td>\n",
       "      <td>...</td>\n",
       "    </tr>\n",
       "    <tr>\n",
       "      <th>2394</th>\n",
       "      <td>VOLVO V70</td>\n",
       "      <td>3.2</td>\n",
       "      <td>(6 cyl)</td>\n",
       "      <td>Auto-S6</td>\n",
       "      <td>2WD</td>\n",
       "      <td>Gasoline</td>\n",
       "      <td>CA</td>\n",
       "      <td>U2</td>\n",
       "      <td>8VVXB03.2U2N</td>\n",
       "      <td>station wagon</td>\n",
       "      <td>7</td>\n",
       "      <td>16</td>\n",
       "      <td>24</td>\n",
       "      <td>19</td>\n",
       "      <td>5</td>\n",
       "      <td>no</td>\n",
       "    </tr>\n",
       "    <tr>\n",
       "      <th>2396</th>\n",
       "      <td>VOLVO XC 70</td>\n",
       "      <td>3.2</td>\n",
       "      <td>(6 cyl)</td>\n",
       "      <td>Auto-S6</td>\n",
       "      <td>4WD</td>\n",
       "      <td>Gasoline</td>\n",
       "      <td>CA</td>\n",
       "      <td>U2</td>\n",
       "      <td>8VVXB03.2U2N</td>\n",
       "      <td>SUV</td>\n",
       "      <td>7</td>\n",
       "      <td>15</td>\n",
       "      <td>22</td>\n",
       "      <td>17</td>\n",
       "      <td>4</td>\n",
       "      <td>no</td>\n",
       "    </tr>\n",
       "    <tr>\n",
       "      <th>2398</th>\n",
       "      <td>VOLVO XC 90</td>\n",
       "      <td>3.2</td>\n",
       "      <td>(6 cyl)</td>\n",
       "      <td>Auto-S6</td>\n",
       "      <td>2WD</td>\n",
       "      <td>Gasoline</td>\n",
       "      <td>CA</td>\n",
       "      <td>U2</td>\n",
       "      <td>8VVXB03.2U2N</td>\n",
       "      <td>SUV</td>\n",
       "      <td>7</td>\n",
       "      <td>14</td>\n",
       "      <td>20</td>\n",
       "      <td>16</td>\n",
       "      <td>4</td>\n",
       "      <td>no</td>\n",
       "    </tr>\n",
       "    <tr>\n",
       "      <th>2399</th>\n",
       "      <td>VOLVO XC 90</td>\n",
       "      <td>3.2</td>\n",
       "      <td>(6 cyl)</td>\n",
       "      <td>Auto-S6</td>\n",
       "      <td>4WD</td>\n",
       "      <td>Gasoline</td>\n",
       "      <td>CA</td>\n",
       "      <td>U2</td>\n",
       "      <td>8VVXB03.2U2N</td>\n",
       "      <td>SUV</td>\n",
       "      <td>7</td>\n",
       "      <td>14</td>\n",
       "      <td>20</td>\n",
       "      <td>16</td>\n",
       "      <td>4</td>\n",
       "      <td>no</td>\n",
       "    </tr>\n",
       "    <tr>\n",
       "      <th>2400</th>\n",
       "      <td>VOLVO XC 90</td>\n",
       "      <td>4.4</td>\n",
       "      <td>(8 cyl)</td>\n",
       "      <td>Auto-S6</td>\n",
       "      <td>4WD</td>\n",
       "      <td>Gasoline</td>\n",
       "      <td>CA</td>\n",
       "      <td>U2</td>\n",
       "      <td>8VVXB04.4U2N</td>\n",
       "      <td>SUV</td>\n",
       "      <td>7</td>\n",
       "      <td>13</td>\n",
       "      <td>19</td>\n",
       "      <td>15</td>\n",
       "      <td>3</td>\n",
       "      <td>no</td>\n",
       "    </tr>\n",
       "  </tbody>\n",
       "</table>\n",
       "<p>1084 rows × 16 columns</p>\n",
       "</div>"
      ],
      "text/plain": [
       "            Model  Displ      Cyl    Trans Drive      Fuel Cert_Region Stnd  \\\n",
       "0       ACURA MDX    3.7  (6 cyl)  Auto-S5   4WD  Gasoline          CA   U2   \n",
       "2       ACURA RDX    2.3  (4 cyl)  Auto-S5   4WD  Gasoline          CA   U2   \n",
       "4        ACURA RL    3.5  (6 cyl)  Auto-S5   4WD  Gasoline          CA   U2   \n",
       "6        ACURA TL    3.2  (6 cyl)  Auto-S5   2WD  Gasoline          CA   U2   \n",
       "7        ACURA TL    3.5  (6 cyl)  Auto-S5   2WD  Gasoline          CA   U2   \n",
       "...           ...    ...      ...      ...   ...       ...         ...  ...   \n",
       "2394    VOLVO V70    3.2  (6 cyl)  Auto-S6   2WD  Gasoline          CA   U2   \n",
       "2396  VOLVO XC 70    3.2  (6 cyl)  Auto-S6   4WD  Gasoline          CA   U2   \n",
       "2398  VOLVO XC 90    3.2  (6 cyl)  Auto-S6   2WD  Gasoline          CA   U2   \n",
       "2399  VOLVO XC 90    3.2  (6 cyl)  Auto-S6   4WD  Gasoline          CA   U2   \n",
       "2400  VOLVO XC 90    4.4  (8 cyl)  Auto-S6   4WD  Gasoline          CA   U2   \n",
       "\n",
       "      Underhood_ID      Veh_Class Air_Pollution_Score City_MPG Hwy_MPG  \\\n",
       "0     8HNXT03.7PKR            SUV                   7       15      20   \n",
       "2     8HNXT02.3DKR            SUV                   7       17      22   \n",
       "4     8HNXV03.5HKR    midsize car                   7       16      24   \n",
       "6     8HNXV03.5HKR    midsize car                   7       18      26   \n",
       "7     8HNXV03.5RKR    midsize car                   7       17      26   \n",
       "...            ...            ...                 ...      ...     ...   \n",
       "2394  8VVXB03.2U2N  station wagon                   7       16      24   \n",
       "2396  8VVXB03.2U2N            SUV                   7       15      22   \n",
       "2398  8VVXB03.2U2N            SUV                   7       14      20   \n",
       "2399  8VVXB03.2U2N            SUV                   7       14      20   \n",
       "2400  8VVXB04.4U2N            SUV                   7       13      19   \n",
       "\n",
       "     Cmb_MPG Greenhouse_Gas_Score SmartWay  \n",
       "0         17                    4       no  \n",
       "2         19                    5       no  \n",
       "4         19                    5       no  \n",
       "6         21                    6      yes  \n",
       "7         20                    6      yes  \n",
       "...      ...                  ...      ...  \n",
       "2394      19                    5       no  \n",
       "2396      17                    4       no  \n",
       "2398      16                    4       no  \n",
       "2399      16                    4       no  \n",
       "2400      15                    3       no  \n",
       "\n",
       "[1084 rows x 16 columns]"
      ]
     },
     "execution_count": 22,
     "metadata": {},
     "output_type": "execute_result"
    }
   ],
   "source": [
    "df_08.query('Cert_Region == \"CA\"')"
   ]
  },
  {
   "cell_type": "code",
   "execution_count": 23,
   "metadata": {},
   "outputs": [
    {
     "data": {
      "text/html": [
       "<div>\n",
       "<style scoped>\n",
       "    .dataframe tbody tr th:only-of-type {\n",
       "        vertical-align: middle;\n",
       "    }\n",
       "\n",
       "    .dataframe tbody tr th {\n",
       "        vertical-align: top;\n",
       "    }\n",
       "\n",
       "    .dataframe thead th {\n",
       "        text-align: right;\n",
       "    }\n",
       "</style>\n",
       "<table border=\"1\" class=\"dataframe\">\n",
       "  <thead>\n",
       "    <tr style=\"text-align: right;\">\n",
       "      <th></th>\n",
       "      <th>Model</th>\n",
       "      <th>Displ</th>\n",
       "      <th>Cyl</th>\n",
       "      <th>Trans</th>\n",
       "      <th>Drive</th>\n",
       "      <th>Fuel</th>\n",
       "      <th>Cert_Region</th>\n",
       "      <th>Stnd</th>\n",
       "      <th>Underhood_ID</th>\n",
       "      <th>Veh_Class</th>\n",
       "      <th>Air_Pollution_Score</th>\n",
       "      <th>City_MPG</th>\n",
       "      <th>Hwy_MPG</th>\n",
       "      <th>Cmb_MPG</th>\n",
       "      <th>Greenhouse_Gas_Score</th>\n",
       "      <th>SmartWay</th>\n",
       "    </tr>\n",
       "  </thead>\n",
       "  <tbody>\n",
       "    <tr>\n",
       "      <th>1</th>\n",
       "      <td>ACURA RDX</td>\n",
       "      <td>3.5</td>\n",
       "      <td>6.0</td>\n",
       "      <td>SemiAuto-6</td>\n",
       "      <td>2WD</td>\n",
       "      <td>Gasoline</td>\n",
       "      <td>CA</td>\n",
       "      <td>U2</td>\n",
       "      <td>JHNXT03.5GV3</td>\n",
       "      <td>small SUV</td>\n",
       "      <td>3</td>\n",
       "      <td>20</td>\n",
       "      <td>28</td>\n",
       "      <td>23</td>\n",
       "      <td>5</td>\n",
       "      <td>No</td>\n",
       "    </tr>\n",
       "    <tr>\n",
       "      <th>3</th>\n",
       "      <td>ACURA RDX</td>\n",
       "      <td>3.5</td>\n",
       "      <td>6.0</td>\n",
       "      <td>SemiAuto-6</td>\n",
       "      <td>4WD</td>\n",
       "      <td>Gasoline</td>\n",
       "      <td>CA</td>\n",
       "      <td>U2</td>\n",
       "      <td>JHNXT03.5GV3</td>\n",
       "      <td>small SUV</td>\n",
       "      <td>3</td>\n",
       "      <td>19</td>\n",
       "      <td>27</td>\n",
       "      <td>22</td>\n",
       "      <td>4</td>\n",
       "      <td>No</td>\n",
       "    </tr>\n",
       "    <tr>\n",
       "      <th>4</th>\n",
       "      <td>ACURA TLX</td>\n",
       "      <td>2.4</td>\n",
       "      <td>4.0</td>\n",
       "      <td>AMS-8</td>\n",
       "      <td>2WD</td>\n",
       "      <td>Gasoline</td>\n",
       "      <td>CA</td>\n",
       "      <td>L3ULEV125</td>\n",
       "      <td>JHNXV02.4WH3</td>\n",
       "      <td>small car</td>\n",
       "      <td>3</td>\n",
       "      <td>23</td>\n",
       "      <td>33</td>\n",
       "      <td>27</td>\n",
       "      <td>6</td>\n",
       "      <td>No</td>\n",
       "    </tr>\n",
       "    <tr>\n",
       "      <th>6</th>\n",
       "      <td>ACURA TLX</td>\n",
       "      <td>3.5</td>\n",
       "      <td>6.0</td>\n",
       "      <td>SemiAuto-9</td>\n",
       "      <td>2WD</td>\n",
       "      <td>Gasoline</td>\n",
       "      <td>CA</td>\n",
       "      <td>L3ULEV125</td>\n",
       "      <td>JHNXV03.5LH3</td>\n",
       "      <td>small car</td>\n",
       "      <td>3</td>\n",
       "      <td>20</td>\n",
       "      <td>32</td>\n",
       "      <td>24</td>\n",
       "      <td>5</td>\n",
       "      <td>No</td>\n",
       "    </tr>\n",
       "    <tr>\n",
       "      <th>8</th>\n",
       "      <td>ACURA TLX</td>\n",
       "      <td>3.5</td>\n",
       "      <td>6.0</td>\n",
       "      <td>SemiAuto-9</td>\n",
       "      <td>4WD</td>\n",
       "      <td>Gasoline</td>\n",
       "      <td>CA</td>\n",
       "      <td>L3ULEV125</td>\n",
       "      <td>JHNXV03.5LH3</td>\n",
       "      <td>small car</td>\n",
       "      <td>3</td>\n",
       "      <td>21</td>\n",
       "      <td>30</td>\n",
       "      <td>24</td>\n",
       "      <td>5</td>\n",
       "      <td>No</td>\n",
       "    </tr>\n",
       "    <tr>\n",
       "      <th>...</th>\n",
       "      <td>...</td>\n",
       "      <td>...</td>\n",
       "      <td>...</td>\n",
       "      <td>...</td>\n",
       "      <td>...</td>\n",
       "      <td>...</td>\n",
       "      <td>...</td>\n",
       "      <td>...</td>\n",
       "      <td>...</td>\n",
       "      <td>...</td>\n",
       "      <td>...</td>\n",
       "      <td>...</td>\n",
       "      <td>...</td>\n",
       "      <td>...</td>\n",
       "      <td>...</td>\n",
       "      <td>...</td>\n",
       "    </tr>\n",
       "    <tr>\n",
       "      <th>1601</th>\n",
       "      <td>VOLVO XC 60</td>\n",
       "      <td>2.0</td>\n",
       "      <td>4.0</td>\n",
       "      <td>SemiAuto-8</td>\n",
       "      <td>4WD</td>\n",
       "      <td>Gasoline/Electricity</td>\n",
       "      <td>CA</td>\n",
       "      <td>L3SULEV30</td>\n",
       "      <td>JVVXJ02.0P30</td>\n",
       "      <td>small SUV</td>\n",
       "      <td>7</td>\n",
       "      <td>26/60</td>\n",
       "      <td>28/58</td>\n",
       "      <td>26/59</td>\n",
       "      <td>10</td>\n",
       "      <td>Elite</td>\n",
       "    </tr>\n",
       "    <tr>\n",
       "      <th>1603</th>\n",
       "      <td>VOLVO XC 90</td>\n",
       "      <td>2.0</td>\n",
       "      <td>4.0</td>\n",
       "      <td>SemiAuto-8</td>\n",
       "      <td>2WD</td>\n",
       "      <td>Gasoline</td>\n",
       "      <td>CA</td>\n",
       "      <td>L3ULEV70</td>\n",
       "      <td>JVVXJ02.0A70</td>\n",
       "      <td>standard SUV</td>\n",
       "      <td>5</td>\n",
       "      <td>22</td>\n",
       "      <td>29</td>\n",
       "      <td>25</td>\n",
       "      <td>5</td>\n",
       "      <td>No</td>\n",
       "    </tr>\n",
       "    <tr>\n",
       "      <th>1605</th>\n",
       "      <td>VOLVO XC 90</td>\n",
       "      <td>2.0</td>\n",
       "      <td>4.0</td>\n",
       "      <td>SemiAuto-8</td>\n",
       "      <td>4WD</td>\n",
       "      <td>Gasoline</td>\n",
       "      <td>CA</td>\n",
       "      <td>L3ULEV70</td>\n",
       "      <td>JVVXJ02.0A70</td>\n",
       "      <td>standard SUV</td>\n",
       "      <td>5</td>\n",
       "      <td>22</td>\n",
       "      <td>28</td>\n",
       "      <td>24</td>\n",
       "      <td>5</td>\n",
       "      <td>No</td>\n",
       "    </tr>\n",
       "    <tr>\n",
       "      <th>1607</th>\n",
       "      <td>VOLVO XC 90</td>\n",
       "      <td>2.0</td>\n",
       "      <td>4.0</td>\n",
       "      <td>SemiAuto-8</td>\n",
       "      <td>4WD</td>\n",
       "      <td>Gasoline</td>\n",
       "      <td>CA</td>\n",
       "      <td>L3ULEV70</td>\n",
       "      <td>JVVXJ02.0B70</td>\n",
       "      <td>standard SUV</td>\n",
       "      <td>5</td>\n",
       "      <td>20</td>\n",
       "      <td>27</td>\n",
       "      <td>23</td>\n",
       "      <td>5</td>\n",
       "      <td>No</td>\n",
       "    </tr>\n",
       "    <tr>\n",
       "      <th>1609</th>\n",
       "      <td>VOLVO XC 90</td>\n",
       "      <td>2.0</td>\n",
       "      <td>4.0</td>\n",
       "      <td>SemiAuto-8</td>\n",
       "      <td>4WD</td>\n",
       "      <td>Gasoline/Electricity</td>\n",
       "      <td>CA</td>\n",
       "      <td>L3SULEV30</td>\n",
       "      <td>JVVXJ02.0P30</td>\n",
       "      <td>standard SUV</td>\n",
       "      <td>7</td>\n",
       "      <td>26/63</td>\n",
       "      <td>30/61</td>\n",
       "      <td>27/62</td>\n",
       "      <td>10</td>\n",
       "      <td>Elite</td>\n",
       "    </tr>\n",
       "  </tbody>\n",
       "</table>\n",
       "<p>798 rows × 16 columns</p>\n",
       "</div>"
      ],
      "text/plain": [
       "            Model  Displ  Cyl       Trans Drive                  Fuel  \\\n",
       "1       ACURA RDX    3.5  6.0  SemiAuto-6   2WD              Gasoline   \n",
       "3       ACURA RDX    3.5  6.0  SemiAuto-6   4WD              Gasoline   \n",
       "4       ACURA TLX    2.4  4.0       AMS-8   2WD              Gasoline   \n",
       "6       ACURA TLX    3.5  6.0  SemiAuto-9   2WD              Gasoline   \n",
       "8       ACURA TLX    3.5  6.0  SemiAuto-9   4WD              Gasoline   \n",
       "...           ...    ...  ...         ...   ...                   ...   \n",
       "1601  VOLVO XC 60    2.0  4.0  SemiAuto-8   4WD  Gasoline/Electricity   \n",
       "1603  VOLVO XC 90    2.0  4.0  SemiAuto-8   2WD              Gasoline   \n",
       "1605  VOLVO XC 90    2.0  4.0  SemiAuto-8   4WD              Gasoline   \n",
       "1607  VOLVO XC 90    2.0  4.0  SemiAuto-8   4WD              Gasoline   \n",
       "1609  VOLVO XC 90    2.0  4.0  SemiAuto-8   4WD  Gasoline/Electricity   \n",
       "\n",
       "     Cert_Region       Stnd  Underhood_ID     Veh_Class  Air_Pollution_Score  \\\n",
       "1             CA         U2  JHNXT03.5GV3     small SUV                    3   \n",
       "3             CA         U2  JHNXT03.5GV3     small SUV                    3   \n",
       "4             CA  L3ULEV125  JHNXV02.4WH3     small car                    3   \n",
       "6             CA  L3ULEV125  JHNXV03.5LH3     small car                    3   \n",
       "8             CA  L3ULEV125  JHNXV03.5LH3     small car                    3   \n",
       "...          ...        ...           ...           ...                  ...   \n",
       "1601          CA  L3SULEV30  JVVXJ02.0P30     small SUV                    7   \n",
       "1603          CA   L3ULEV70  JVVXJ02.0A70  standard SUV                    5   \n",
       "1605          CA   L3ULEV70  JVVXJ02.0A70  standard SUV                    5   \n",
       "1607          CA   L3ULEV70  JVVXJ02.0B70  standard SUV                    5   \n",
       "1609          CA  L3SULEV30  JVVXJ02.0P30  standard SUV                    7   \n",
       "\n",
       "     City_MPG Hwy_MPG Cmb_MPG  Greenhouse_Gas_Score SmartWay  \n",
       "1          20      28      23                     5       No  \n",
       "3          19      27      22                     4       No  \n",
       "4          23      33      27                     6       No  \n",
       "6          20      32      24                     5       No  \n",
       "8          21      30      24                     5       No  \n",
       "...       ...     ...     ...                   ...      ...  \n",
       "1601    26/60   28/58   26/59                    10    Elite  \n",
       "1603       22      29      25                     5       No  \n",
       "1605       22      28      24                     5       No  \n",
       "1607       20      27      23                     5       No  \n",
       "1609    26/63   30/61   27/62                    10    Elite  \n",
       "\n",
       "[798 rows x 16 columns]"
      ]
     },
     "execution_count": 23,
     "metadata": {},
     "output_type": "execute_result"
    }
   ],
   "source": [
    "df_18.query('Cert_Region == \"CA\"')"
   ]
  },
  {
   "cell_type": "markdown",
   "metadata": {},
   "source": [
    "## Drop 'cert_region' column from each df, since our 'cert_region' is implied"
   ]
  },
  {
   "cell_type": "code",
   "execution_count": 24,
   "metadata": {},
   "outputs": [
    {
     "data": {
      "text/html": [
       "<div>\n",
       "<style scoped>\n",
       "    .dataframe tbody tr th:only-of-type {\n",
       "        vertical-align: middle;\n",
       "    }\n",
       "\n",
       "    .dataframe tbody tr th {\n",
       "        vertical-align: top;\n",
       "    }\n",
       "\n",
       "    .dataframe thead th {\n",
       "        text-align: right;\n",
       "    }\n",
       "</style>\n",
       "<table border=\"1\" class=\"dataframe\">\n",
       "  <thead>\n",
       "    <tr style=\"text-align: right;\">\n",
       "      <th></th>\n",
       "      <th>Model</th>\n",
       "      <th>Displ</th>\n",
       "      <th>Cyl</th>\n",
       "      <th>Trans</th>\n",
       "      <th>Drive</th>\n",
       "      <th>Fuel</th>\n",
       "      <th>Stnd</th>\n",
       "      <th>Underhood_ID</th>\n",
       "      <th>Veh_Class</th>\n",
       "      <th>Air_Pollution_Score</th>\n",
       "      <th>City_MPG</th>\n",
       "      <th>Hwy_MPG</th>\n",
       "      <th>Cmb_MPG</th>\n",
       "      <th>Greenhouse_Gas_Score</th>\n",
       "      <th>SmartWay</th>\n",
       "    </tr>\n",
       "  </thead>\n",
       "  <tbody>\n",
       "    <tr>\n",
       "      <th>0</th>\n",
       "      <td>ACURA MDX</td>\n",
       "      <td>3.7</td>\n",
       "      <td>(6 cyl)</td>\n",
       "      <td>Auto-S5</td>\n",
       "      <td>4WD</td>\n",
       "      <td>Gasoline</td>\n",
       "      <td>U2</td>\n",
       "      <td>8HNXT03.7PKR</td>\n",
       "      <td>SUV</td>\n",
       "      <td>7</td>\n",
       "      <td>15</td>\n",
       "      <td>20</td>\n",
       "      <td>17</td>\n",
       "      <td>4</td>\n",
       "      <td>no</td>\n",
       "    </tr>\n",
       "  </tbody>\n",
       "</table>\n",
       "</div>"
      ],
      "text/plain": [
       "       Model  Displ      Cyl    Trans Drive      Fuel Stnd  Underhood_ID  \\\n",
       "0  ACURA MDX    3.7  (6 cyl)  Auto-S5   4WD  Gasoline   U2  8HNXT03.7PKR   \n",
       "\n",
       "  Veh_Class Air_Pollution_Score City_MPG Hwy_MPG Cmb_MPG Greenhouse_Gas_Score  \\\n",
       "0       SUV                   7       15      20      17                    4   \n",
       "\n",
       "  SmartWay  \n",
       "0       no  "
      ]
     },
     "execution_count": 24,
     "metadata": {},
     "output_type": "execute_result"
    }
   ],
   "source": [
    "df_08.drop(columns=['Cert_Region'], axis=1, inplace=True)\n",
    "df_08.head(1)\n"
   ]
  },
  {
   "cell_type": "code",
   "execution_count": 25,
   "metadata": {},
   "outputs": [
    {
     "data": {
      "text/html": [
       "<div>\n",
       "<style scoped>\n",
       "    .dataframe tbody tr th:only-of-type {\n",
       "        vertical-align: middle;\n",
       "    }\n",
       "\n",
       "    .dataframe tbody tr th {\n",
       "        vertical-align: top;\n",
       "    }\n",
       "\n",
       "    .dataframe thead th {\n",
       "        text-align: right;\n",
       "    }\n",
       "</style>\n",
       "<table border=\"1\" class=\"dataframe\">\n",
       "  <thead>\n",
       "    <tr style=\"text-align: right;\">\n",
       "      <th></th>\n",
       "      <th>Model</th>\n",
       "      <th>Displ</th>\n",
       "      <th>Cyl</th>\n",
       "      <th>Trans</th>\n",
       "      <th>Drive</th>\n",
       "      <th>Fuel</th>\n",
       "      <th>Stnd</th>\n",
       "      <th>Underhood_ID</th>\n",
       "      <th>Veh_Class</th>\n",
       "      <th>Air_Pollution_Score</th>\n",
       "      <th>City_MPG</th>\n",
       "      <th>Hwy_MPG</th>\n",
       "      <th>Cmb_MPG</th>\n",
       "      <th>Greenhouse_Gas_Score</th>\n",
       "      <th>SmartWay</th>\n",
       "    </tr>\n",
       "  </thead>\n",
       "  <tbody>\n",
       "    <tr>\n",
       "      <th>0</th>\n",
       "      <td>ACURA RDX</td>\n",
       "      <td>3.5</td>\n",
       "      <td>6.0</td>\n",
       "      <td>SemiAuto-6</td>\n",
       "      <td>2WD</td>\n",
       "      <td>Gasoline</td>\n",
       "      <td>T3B125</td>\n",
       "      <td>JHNXT03.5GV3</td>\n",
       "      <td>small SUV</td>\n",
       "      <td>3</td>\n",
       "      <td>20</td>\n",
       "      <td>28</td>\n",
       "      <td>23</td>\n",
       "      <td>5</td>\n",
       "      <td>No</td>\n",
       "    </tr>\n",
       "  </tbody>\n",
       "</table>\n",
       "</div>"
      ],
      "text/plain": [
       "       Model  Displ  Cyl       Trans Drive      Fuel    Stnd  Underhood_ID  \\\n",
       "0  ACURA RDX    3.5  6.0  SemiAuto-6   2WD  Gasoline  T3B125  JHNXT03.5GV3   \n",
       "\n",
       "   Veh_Class  Air_Pollution_Score City_MPG Hwy_MPG Cmb_MPG  \\\n",
       "0  small SUV                    3       20      28      23   \n",
       "\n",
       "   Greenhouse_Gas_Score SmartWay  \n",
       "0                     5       No  "
      ]
     },
     "execution_count": 25,
     "metadata": {},
     "output_type": "execute_result"
    }
   ],
   "source": [
    "df_18.drop(columns=['Cert_Region'], axis=1, inplace=True)\n",
    "df_18.head(1)"
   ]
  },
  {
   "cell_type": "markdown",
   "metadata": {},
   "source": [
    "## Drop records with missing values"
   ]
  },
  {
   "cell_type": "code",
   "execution_count": 26,
   "metadata": {},
   "outputs": [
    {
     "data": {
      "text/plain": [
       "Model                   0\n",
       "Displ                   0\n",
       "Cyl                     0\n",
       "Trans                   0\n",
       "Drive                   0\n",
       "Fuel                    0\n",
       "Stnd                    0\n",
       "Underhood_ID            0\n",
       "Veh_Class               0\n",
       "Air_Pollution_Score     0\n",
       "City_MPG                0\n",
       "Hwy_MPG                 0\n",
       "Cmb_MPG                 0\n",
       "Greenhouse_Gas_Score    0\n",
       "SmartWay                0\n",
       "dtype: int64"
      ]
     },
     "execution_count": 26,
     "metadata": {},
     "output_type": "execute_result"
    }
   ],
   "source": [
    "df_08.dropna(inplace=True)\n",
    "df_08.isnull().sum()"
   ]
  },
  {
   "cell_type": "code",
   "execution_count": 27,
   "metadata": {},
   "outputs": [
    {
     "data": {
      "text/plain": [
       "Model                   0\n",
       "Displ                   0\n",
       "Cyl                     0\n",
       "Trans                   0\n",
       "Drive                   0\n",
       "Fuel                    0\n",
       "Stnd                    0\n",
       "Underhood_ID            0\n",
       "Veh_Class               0\n",
       "Air_Pollution_Score     0\n",
       "City_MPG                0\n",
       "Hwy_MPG                 0\n",
       "Cmb_MPG                 0\n",
       "Greenhouse_Gas_Score    0\n",
       "SmartWay                0\n",
       "dtype: int64"
      ]
     },
     "execution_count": 27,
     "metadata": {},
     "output_type": "execute_result"
    }
   ],
   "source": [
    "df_18.dropna(inplace=True)\n",
    "df_18.isnull().sum()"
   ]
  },
  {
   "cell_type": "code",
   "execution_count": 28,
   "metadata": {},
   "outputs": [
    {
     "data": {
      "text/html": [
       "<div>\n",
       "<style scoped>\n",
       "    .dataframe tbody tr th:only-of-type {\n",
       "        vertical-align: middle;\n",
       "    }\n",
       "\n",
       "    .dataframe tbody tr th {\n",
       "        vertical-align: top;\n",
       "    }\n",
       "\n",
       "    .dataframe thead th {\n",
       "        text-align: right;\n",
       "    }\n",
       "</style>\n",
       "<table border=\"1\" class=\"dataframe\">\n",
       "  <thead>\n",
       "    <tr style=\"text-align: right;\">\n",
       "      <th></th>\n",
       "      <th>Model</th>\n",
       "      <th>Displ</th>\n",
       "      <th>Cyl</th>\n",
       "      <th>Trans</th>\n",
       "      <th>Drive</th>\n",
       "      <th>Fuel</th>\n",
       "      <th>Stnd</th>\n",
       "      <th>Underhood_ID</th>\n",
       "      <th>Veh_Class</th>\n",
       "      <th>Air_Pollution_Score</th>\n",
       "      <th>City_MPG</th>\n",
       "      <th>Hwy_MPG</th>\n",
       "      <th>Cmb_MPG</th>\n",
       "      <th>Greenhouse_Gas_Score</th>\n",
       "      <th>SmartWay</th>\n",
       "    </tr>\n",
       "  </thead>\n",
       "  <tbody>\n",
       "  </tbody>\n",
       "</table>\n",
       "</div>"
      ],
      "text/plain": [
       "Empty DataFrame\n",
       "Columns: [Model, Displ, Cyl, Trans, Drive, Fuel, Stnd, Underhood_ID, Veh_Class, Air_Pollution_Score, City_MPG, Hwy_MPG, Cmb_MPG, Greenhouse_Gas_Score, SmartWay]\n",
       "Index: []"
      ]
     },
     "execution_count": 28,
     "metadata": {},
     "output_type": "execute_result"
    }
   ],
   "source": [
    "df_08.drop_duplicates(inplace=True)\n",
    "df_08[df_08.duplicated()]"
   ]
  },
  {
   "cell_type": "code",
   "execution_count": 29,
   "metadata": {},
   "outputs": [
    {
     "data": {
      "text/html": [
       "<div>\n",
       "<style scoped>\n",
       "    .dataframe tbody tr th:only-of-type {\n",
       "        vertical-align: middle;\n",
       "    }\n",
       "\n",
       "    .dataframe tbody tr th {\n",
       "        vertical-align: top;\n",
       "    }\n",
       "\n",
       "    .dataframe thead th {\n",
       "        text-align: right;\n",
       "    }\n",
       "</style>\n",
       "<table border=\"1\" class=\"dataframe\">\n",
       "  <thead>\n",
       "    <tr style=\"text-align: right;\">\n",
       "      <th></th>\n",
       "      <th>Model</th>\n",
       "      <th>Displ</th>\n",
       "      <th>Cyl</th>\n",
       "      <th>Trans</th>\n",
       "      <th>Drive</th>\n",
       "      <th>Fuel</th>\n",
       "      <th>Stnd</th>\n",
       "      <th>Underhood_ID</th>\n",
       "      <th>Veh_Class</th>\n",
       "      <th>Air_Pollution_Score</th>\n",
       "      <th>City_MPG</th>\n",
       "      <th>Hwy_MPG</th>\n",
       "      <th>Cmb_MPG</th>\n",
       "      <th>Greenhouse_Gas_Score</th>\n",
       "      <th>SmartWay</th>\n",
       "    </tr>\n",
       "  </thead>\n",
       "  <tbody>\n",
       "  </tbody>\n",
       "</table>\n",
       "</div>"
      ],
      "text/plain": [
       "Empty DataFrame\n",
       "Columns: [Model, Displ, Cyl, Trans, Drive, Fuel, Stnd, Underhood_ID, Veh_Class, Air_Pollution_Score, City_MPG, Hwy_MPG, Cmb_MPG, Greenhouse_Gas_Score, SmartWay]\n",
       "Index: []"
      ]
     },
     "execution_count": 29,
     "metadata": {},
     "output_type": "execute_result"
    }
   ],
   "source": [
    "df_18.drop_duplicates(inplace=True)\n",
    "df_18[df_18.duplicated()]"
   ]
  },
  {
   "cell_type": "markdown",
   "metadata": {},
   "source": [
    "# CHECKPOINT: SAVE EVERYTHING TO .CSV"
   ]
  },
  {
   "cell_type": "code",
   "execution_count": 30,
   "metadata": {},
   "outputs": [],
   "source": [
    "df_08.to_csv('df_08_v3.csv', index=False)\n",
    "df_18.to_csv('df_18_v3.csv', index=False)"
   ]
  },
  {
   "cell_type": "code",
   "execution_count": 31,
   "metadata": {},
   "outputs": [],
   "source": [
    "df_08 = pd.read_csv('df_08_v3.csv')\n",
    "df_18 = pd.read_csv('df_18_v3.csv')"
   ]
  },
  {
   "cell_type": "markdown",
   "metadata": {},
   "source": [
    "## Fix all datatypes"
   ]
  },
  {
   "cell_type": "code",
   "execution_count": null,
   "metadata": {},
   "outputs": [],
   "source": [
    "# Check the datatypes of your columns\n",
    "\n",
    "# Make sure your datatypes are consistent across both datasets\n",
    "\n",
    "# You can use the .value_counts() method to find unique values within a column. Use this to figure out how to\n",
    "# determine how to change the data within the column so that the datatypes across both datasets in those columns \n",
    "# would match. You'll need this later."
   ]
  },
  {
   "cell_type": "code",
   "execution_count": 32,
   "metadata": {},
   "outputs": [
    {
     "data": {
      "text/plain": [
       "Model                    object\n",
       "Displ                   float64\n",
       "Cyl                      object\n",
       "Trans                    object\n",
       "Drive                    object\n",
       "Fuel                     object\n",
       "Stnd                     object\n",
       "Underhood_ID             object\n",
       "Veh_Class                object\n",
       "Air_Pollution_Score      object\n",
       "City_MPG                 object\n",
       "Hwy_MPG                  object\n",
       "Cmb_MPG                  object\n",
       "Greenhouse_Gas_Score     object\n",
       "SmartWay                 object\n",
       "dtype: object"
      ]
     },
     "execution_count": 32,
     "metadata": {},
     "output_type": "execute_result"
    }
   ],
   "source": [
    "df_08.dtypes\n"
   ]
  },
  {
   "cell_type": "code",
   "execution_count": 33,
   "metadata": {
    "scrolled": true
   },
   "outputs": [
    {
     "data": {
      "text/plain": [
       "Model                    object\n",
       "Displ                   float64\n",
       "Cyl                     float64\n",
       "Trans                    object\n",
       "Drive                    object\n",
       "Fuel                     object\n",
       "Stnd                     object\n",
       "Underhood_ID             object\n",
       "Veh_Class                object\n",
       "Air_Pollution_Score       int64\n",
       "City_MPG                 object\n",
       "Hwy_MPG                  object\n",
       "Cmb_MPG                  object\n",
       "Greenhouse_Gas_Score      int64\n",
       "SmartWay                 object\n",
       "dtype: object"
      ]
     },
     "execution_count": 33,
     "metadata": {},
     "output_type": "execute_result"
    }
   ],
   "source": [
    "df_18.dtypes"
   ]
  },
  {
   "cell_type": "code",
   "execution_count": 34,
   "metadata": {},
   "outputs": [
    {
     "data": {
      "text/plain": [
       "(6 cyl)     858\n",
       "(4 cyl)     592\n",
       "(8 cyl)     517\n",
       "(5 cyl)     113\n",
       "(12 cyl)     60\n",
       "(10 cyl)     29\n",
       "(2 cyl)       4\n",
       "(16 cyl)      2\n",
       "Name: Cyl, dtype: int64"
      ]
     },
     "execution_count": 34,
     "metadata": {},
     "output_type": "execute_result"
    }
   ],
   "source": [
    "df_08.Cyl.value_counts()"
   ]
  },
  {
   "cell_type": "code",
   "execution_count": 35,
   "metadata": {},
   "outputs": [
    {
     "data": {
      "text/plain": [
       "4.0     716\n",
       "6.0     486\n",
       "8.0     298\n",
       "3.0      36\n",
       "12.0     18\n",
       "5.0       4\n",
       "16.0      2\n",
       "Name: Cyl, dtype: int64"
      ]
     },
     "execution_count": 35,
     "metadata": {},
     "output_type": "execute_result"
    }
   ],
   "source": [
    "df_18.Cyl.value_counts()"
   ]
  },
  {
   "cell_type": "code",
   "execution_count": 36,
   "metadata": {},
   "outputs": [
    {
     "data": {
      "text/plain": [
       "6     858\n",
       "4     592\n",
       "8     517\n",
       "5     113\n",
       "12     60\n",
       "10     29\n",
       "2       4\n",
       "16      2\n",
       "Name: Cyl, dtype: int64"
      ]
     },
     "execution_count": 36,
     "metadata": {},
     "output_type": "execute_result"
    }
   ],
   "source": [
    "df_08.Cyl = df_08.Cyl.str.extract('(\\d+)').astype(np.int64)\n",
    "df_08.Cyl.value_counts()"
   ]
  },
  {
   "cell_type": "code",
   "execution_count": 37,
   "metadata": {},
   "outputs": [
    {
     "data": {
      "text/plain": [
       "4     716\n",
       "6     486\n",
       "8     298\n",
       "3      36\n",
       "12     18\n",
       "5       4\n",
       "16      2\n",
       "Name: Cyl, dtype: int64"
      ]
     },
     "execution_count": 37,
     "metadata": {},
     "output_type": "execute_result"
    }
   ],
   "source": [
    "df_18.Cyl = df_18.Cyl.astype(np.int64)\n",
    "df_18.Cyl.value_counts()"
   ]
  },
  {
   "cell_type": "markdown",
   "metadata": {},
   "source": [
    "# CHECKPOINT: SAVE EVERYTHING TO .CSV"
   ]
  },
  {
   "cell_type": "code",
   "execution_count": 38,
   "metadata": {},
   "outputs": [],
   "source": [
    "df_08.to_csv('df_08_v4.csv', index=False)\n",
    "df_18.to_csv('df_18_v4.csv', index=False)"
   ]
  },
  {
   "cell_type": "code",
   "execution_count": 39,
   "metadata": {},
   "outputs": [],
   "source": [
    "df_08 = pd.read_csv('df_08_v4.csv')\n",
    "df_18 = pd.read_csv('df_18_v4.csv')"
   ]
  },
  {
   "cell_type": "code",
   "execution_count": 41,
   "metadata": {},
   "outputs": [
    {
     "data": {
      "text/plain": [
       "0"
      ]
     },
     "execution_count": 41,
     "metadata": {},
     "output_type": "execute_result"
    }
   ],
   "source": [
    "df_08.duplicated().sum()"
   ]
  },
  {
   "cell_type": "code",
   "execution_count": 42,
   "metadata": {},
   "outputs": [
    {
     "data": {
      "text/plain": [
       "Model                   0\n",
       "Displ                   0\n",
       "Cyl                     0\n",
       "Trans                   0\n",
       "Drive                   0\n",
       "Fuel                    0\n",
       "Stnd                    0\n",
       "Underhood_ID            0\n",
       "Veh_Class               0\n",
       "Air_Pollution_Score     0\n",
       "City_MPG                0\n",
       "Hwy_MPG                 0\n",
       "Cmb_MPG                 0\n",
       "Greenhouse_Gas_Score    0\n",
       "SmartWay                0\n",
       "dtype: int64"
      ]
     },
     "execution_count": 42,
     "metadata": {},
     "output_type": "execute_result"
    }
   ],
   "source": [
    "df_08.isnull().sum()"
   ]
  },
  {
   "cell_type": "code",
   "execution_count": 43,
   "metadata": {
    "scrolled": true
   },
   "outputs": [
    {
     "data": {
      "text/plain": [
       "Model                    object\n",
       "Displ                   float64\n",
       "Cyl                       int64\n",
       "Trans                    object\n",
       "Drive                    object\n",
       "Fuel                     object\n",
       "Stnd                     object\n",
       "Underhood_ID             object\n",
       "Veh_Class                object\n",
       "Air_Pollution_Score      object\n",
       "City_MPG                 object\n",
       "Hwy_MPG                  object\n",
       "Cmb_MPG                  object\n",
       "Greenhouse_Gas_Score     object\n",
       "SmartWay                 object\n",
       "dtype: object"
      ]
     },
     "execution_count": 43,
     "metadata": {},
     "output_type": "execute_result"
    }
   ],
   "source": [
    "df_08.dtypes"
   ]
  },
  {
   "cell_type": "code",
   "execution_count": 44,
   "metadata": {},
   "outputs": [
    {
     "data": {
      "text/plain": [
       "Model                    object\n",
       "Displ                   float64\n",
       "Cyl                       int64\n",
       "Trans                    object\n",
       "Drive                    object\n",
       "Fuel                     object\n",
       "Stnd                     object\n",
       "Underhood_ID             object\n",
       "Veh_Class                object\n",
       "Air_Pollution_Score       int64\n",
       "City_MPG                 object\n",
       "Hwy_MPG                  object\n",
       "Cmb_MPG                  object\n",
       "Greenhouse_Gas_Score      int64\n",
       "SmartWay                 object\n",
       "dtype: object"
      ]
     },
     "execution_count": 44,
     "metadata": {},
     "output_type": "execute_result"
    }
   ],
   "source": [
    "df_18.dtypes"
   ]
  },
  {
   "cell_type": "markdown",
   "metadata": {},
   "source": [
    "## Change datatypes in 'air_pollution' column"
   ]
  },
  {
   "cell_type": "code",
   "execution_count": 46,
   "metadata": {},
   "outputs": [
    {
     "data": {
      "text/plain": [
       "6      1454\n",
       "7       500\n",
       "9.5      80\n",
       "6/6      32\n",
       "3        31\n",
       "9        23\n",
       "3/3      21\n",
       "8        15\n",
       "7/7      12\n",
       "1         6\n",
       "6/4       1\n",
       "Name: Air_Pollution_Score, dtype: int64"
      ]
     },
     "execution_count": 46,
     "metadata": {},
     "output_type": "execute_result"
    }
   ],
   "source": [
    "df_08.Air_Pollution_Score.value_counts()"
   ]
  },
  {
   "cell_type": "code",
   "execution_count": 48,
   "metadata": {
    "scrolled": true
   },
   "outputs": [
    {
     "data": {
      "text/html": [
       "<div>\n",
       "<style scoped>\n",
       "    .dataframe tbody tr th:only-of-type {\n",
       "        vertical-align: middle;\n",
       "    }\n",
       "\n",
       "    .dataframe tbody tr th {\n",
       "        vertical-align: top;\n",
       "    }\n",
       "\n",
       "    .dataframe thead th {\n",
       "        text-align: right;\n",
       "    }\n",
       "</style>\n",
       "<table border=\"1\" class=\"dataframe\">\n",
       "  <thead>\n",
       "    <tr style=\"text-align: right;\">\n",
       "      <th></th>\n",
       "      <th>Model</th>\n",
       "      <th>Displ</th>\n",
       "      <th>Cyl</th>\n",
       "      <th>Trans</th>\n",
       "      <th>Drive</th>\n",
       "      <th>Fuel</th>\n",
       "      <th>Stnd</th>\n",
       "      <th>Underhood_ID</th>\n",
       "      <th>Veh_Class</th>\n",
       "      <th>Air_Pollution_Score</th>\n",
       "      <th>City_MPG</th>\n",
       "      <th>Hwy_MPG</th>\n",
       "      <th>Cmb_MPG</th>\n",
       "      <th>Greenhouse_Gas_Score</th>\n",
       "      <th>SmartWay</th>\n",
       "    </tr>\n",
       "  </thead>\n",
       "  <tbody>\n",
       "    <tr>\n",
       "      <th>1331</th>\n",
       "      <td>MERCEDES-BENZ C300</td>\n",
       "      <td>3.0</td>\n",
       "      <td>6</td>\n",
       "      <td>Auto-L7</td>\n",
       "      <td>2WD</td>\n",
       "      <td>ethanol/gas</td>\n",
       "      <td>L2</td>\n",
       "      <td>8MBXV03.0U2A</td>\n",
       "      <td>small car</td>\n",
       "      <td>6/4</td>\n",
       "      <td>13/18</td>\n",
       "      <td>19/25</td>\n",
       "      <td>15/21</td>\n",
       "      <td>7/6</td>\n",
       "      <td>no</td>\n",
       "    </tr>\n",
       "  </tbody>\n",
       "</table>\n",
       "</div>"
      ],
      "text/plain": [
       "                   Model  Displ  Cyl    Trans Drive         Fuel Stnd  \\\n",
       "1331  MERCEDES-BENZ C300    3.0    6  Auto-L7   2WD  ethanol/gas   L2   \n",
       "\n",
       "      Underhood_ID  Veh_Class Air_Pollution_Score City_MPG Hwy_MPG Cmb_MPG  \\\n",
       "1331  8MBXV03.0U2A  small car                 6/4    13/18   19/25   15/21   \n",
       "\n",
       "     Greenhouse_Gas_Score SmartWay  \n",
       "1331                  7/6       no  "
      ]
     },
     "execution_count": 48,
     "metadata": {},
     "output_type": "execute_result"
    }
   ],
   "source": [
    "df_08.query('Air_Pollution_Score == \"6/4\"')"
   ]
  },
  {
   "cell_type": "code",
   "execution_count": null,
   "metadata": {},
   "outputs": [],
   "source": []
  },
  {
   "cell_type": "markdown",
   "metadata": {},
   "source": [
    "# Find Stuff with '/'"
   ]
  },
  {
   "cell_type": "code",
   "execution_count": null,
   "metadata": {},
   "outputs": [],
   "source": [
    "# For this portion, you'll probably find out that there are some records that have a '/' included in them.\n",
    "\n",
    "# If you want to follow a similar process that worked for me, I:\n",
    "\n",
    "# 1. Ran a query to find those records that included the '/'\n",
    "# 2. Made 2 copies (yes, 2 copies) of those queried dataframes\n",
    "# 3. For the first copy, remove all records on the right side of the '/'\n",
    "# 4. For the second copy, remove all records on the left side of the '/'\n",
    "# 5. Drop those same '/' records from the original dataset (from when you ran the query above)\n",
    "# 6. Add the records from both of the copies into the original (You might want to reset your indeces as well)"
   ]
  },
  {
   "cell_type": "code",
   "execution_count": 50,
   "metadata": {
    "scrolled": true
   },
   "outputs": [
    {
     "data": {
      "text/html": [
       "<div>\n",
       "<style scoped>\n",
       "    .dataframe tbody tr th:only-of-type {\n",
       "        vertical-align: middle;\n",
       "    }\n",
       "\n",
       "    .dataframe tbody tr th {\n",
       "        vertical-align: top;\n",
       "    }\n",
       "\n",
       "    .dataframe thead th {\n",
       "        text-align: right;\n",
       "    }\n",
       "</style>\n",
       "<table border=\"1\" class=\"dataframe\">\n",
       "  <thead>\n",
       "    <tr style=\"text-align: right;\">\n",
       "      <th></th>\n",
       "      <th>Model</th>\n",
       "      <th>Displ</th>\n",
       "      <th>Cyl</th>\n",
       "      <th>Trans</th>\n",
       "      <th>Drive</th>\n",
       "      <th>Fuel</th>\n",
       "      <th>Stnd</th>\n",
       "      <th>Underhood_ID</th>\n",
       "      <th>Veh_Class</th>\n",
       "      <th>Air_Pollution_Score</th>\n",
       "      <th>City_MPG</th>\n",
       "      <th>Hwy_MPG</th>\n",
       "      <th>Cmb_MPG</th>\n",
       "      <th>Greenhouse_Gas_Score</th>\n",
       "      <th>SmartWay</th>\n",
       "    </tr>\n",
       "  </thead>\n",
       "  <tbody>\n",
       "    <tr>\n",
       "      <th>316</th>\n",
       "      <td>CHEVROLET Avalanche 1500</td>\n",
       "      <td>5.3</td>\n",
       "      <td>8</td>\n",
       "      <td>Auto-L4</td>\n",
       "      <td>2WD</td>\n",
       "      <td>ethanol/gas</td>\n",
       "      <td>B4</td>\n",
       "      <td>8GMXT05.3381</td>\n",
       "      <td>SUV</td>\n",
       "      <td>7/7</td>\n",
       "      <td>11/14</td>\n",
       "      <td>15/20</td>\n",
       "      <td>12/16</td>\n",
       "      <td>6/4</td>\n",
       "      <td>no</td>\n",
       "    </tr>\n",
       "    <tr>\n",
       "      <th>317</th>\n",
       "      <td>CHEVROLET Avalanche 1500</td>\n",
       "      <td>5.3</td>\n",
       "      <td>8</td>\n",
       "      <td>Auto-L4</td>\n",
       "      <td>4WD</td>\n",
       "      <td>ethanol/gas</td>\n",
       "      <td>B4</td>\n",
       "      <td>8GMXT05.3381</td>\n",
       "      <td>SUV</td>\n",
       "      <td>7/7</td>\n",
       "      <td>11/14</td>\n",
       "      <td>14/19</td>\n",
       "      <td>12/16</td>\n",
       "      <td>6/4</td>\n",
       "      <td>no</td>\n",
       "    </tr>\n",
       "    <tr>\n",
       "      <th>321</th>\n",
       "      <td>CHEVROLET Avalanche 1500</td>\n",
       "      <td>5.3</td>\n",
       "      <td>8</td>\n",
       "      <td>Auto-L4</td>\n",
       "      <td>2WD</td>\n",
       "      <td>ethanol/gas</td>\n",
       "      <td>B5</td>\n",
       "      <td>8GMXT05.3373</td>\n",
       "      <td>SUV</td>\n",
       "      <td>6/6</td>\n",
       "      <td>11/14</td>\n",
       "      <td>15/20</td>\n",
       "      <td>12/16</td>\n",
       "      <td>6/4</td>\n",
       "      <td>no</td>\n",
       "    </tr>\n",
       "    <tr>\n",
       "      <th>322</th>\n",
       "      <td>CHEVROLET Avalanche 1500</td>\n",
       "      <td>5.3</td>\n",
       "      <td>8</td>\n",
       "      <td>Auto-L4</td>\n",
       "      <td>4WD</td>\n",
       "      <td>ethanol/gas</td>\n",
       "      <td>B5</td>\n",
       "      <td>8GMXT05.3373</td>\n",
       "      <td>SUV</td>\n",
       "      <td>6/6</td>\n",
       "      <td>11/14</td>\n",
       "      <td>14/19</td>\n",
       "      <td>12/16</td>\n",
       "      <td>6/4</td>\n",
       "      <td>no</td>\n",
       "    </tr>\n",
       "    <tr>\n",
       "      <th>378</th>\n",
       "      <td>CHEVROLET Express 1500</td>\n",
       "      <td>5.3</td>\n",
       "      <td>8</td>\n",
       "      <td>Auto-L4</td>\n",
       "      <td>4WD</td>\n",
       "      <td>ethanol/gas</td>\n",
       "      <td>B5</td>\n",
       "      <td>8GMXT05.3373</td>\n",
       "      <td>van</td>\n",
       "      <td>6/6</td>\n",
       "      <td>9/12</td>\n",
       "      <td>12/16</td>\n",
       "      <td>10/14</td>\n",
       "      <td>4/2</td>\n",
       "      <td>no</td>\n",
       "    </tr>\n",
       "    <tr>\n",
       "      <th>...</th>\n",
       "      <td>...</td>\n",
       "      <td>...</td>\n",
       "      <td>...</td>\n",
       "      <td>...</td>\n",
       "      <td>...</td>\n",
       "      <td>...</td>\n",
       "      <td>...</td>\n",
       "      <td>...</td>\n",
       "      <td>...</td>\n",
       "      <td>...</td>\n",
       "      <td>...</td>\n",
       "      <td>...</td>\n",
       "      <td>...</td>\n",
       "      <td>...</td>\n",
       "      <td>...</td>\n",
       "    </tr>\n",
       "    <tr>\n",
       "      <th>1513</th>\n",
       "      <td>MITSUBISHI Raider</td>\n",
       "      <td>4.7</td>\n",
       "      <td>8</td>\n",
       "      <td>Auto-L5</td>\n",
       "      <td>4WD</td>\n",
       "      <td>ethanol/gas</td>\n",
       "      <td>B8</td>\n",
       "      <td>8CRXT04.7PJP</td>\n",
       "      <td>pickup</td>\n",
       "      <td>3/3</td>\n",
       "      <td>9/14</td>\n",
       "      <td>12/19</td>\n",
       "      <td>10/15</td>\n",
       "      <td>4/3</td>\n",
       "      <td>no</td>\n",
       "    </tr>\n",
       "    <tr>\n",
       "      <th>1543</th>\n",
       "      <td>NISSAN Armada</td>\n",
       "      <td>5.6</td>\n",
       "      <td>8</td>\n",
       "      <td>Auto-L5</td>\n",
       "      <td>2WD</td>\n",
       "      <td>ethanol/gas</td>\n",
       "      <td>B5</td>\n",
       "      <td>8NSXT05.6G9B</td>\n",
       "      <td>SUV</td>\n",
       "      <td>6/6</td>\n",
       "      <td>9/12</td>\n",
       "      <td>13/18</td>\n",
       "      <td>10/14</td>\n",
       "      <td>4/2</td>\n",
       "      <td>no</td>\n",
       "    </tr>\n",
       "    <tr>\n",
       "      <th>1544</th>\n",
       "      <td>NISSAN Armada</td>\n",
       "      <td>5.6</td>\n",
       "      <td>8</td>\n",
       "      <td>Auto-L5</td>\n",
       "      <td>4WD</td>\n",
       "      <td>ethanol/gas</td>\n",
       "      <td>B5</td>\n",
       "      <td>8NSXT05.6G9B</td>\n",
       "      <td>SUV</td>\n",
       "      <td>6/6</td>\n",
       "      <td>9/12</td>\n",
       "      <td>13/17</td>\n",
       "      <td>10/14</td>\n",
       "      <td>4/2</td>\n",
       "      <td>no</td>\n",
       "    </tr>\n",
       "    <tr>\n",
       "      <th>1587</th>\n",
       "      <td>NISSAN Titan</td>\n",
       "      <td>5.6</td>\n",
       "      <td>8</td>\n",
       "      <td>Auto-L5</td>\n",
       "      <td>2WD</td>\n",
       "      <td>ethanol/gas</td>\n",
       "      <td>B5</td>\n",
       "      <td>8NSXT05.6G9B</td>\n",
       "      <td>pickup</td>\n",
       "      <td>6/6</td>\n",
       "      <td>9/12</td>\n",
       "      <td>13/17</td>\n",
       "      <td>10/14</td>\n",
       "      <td>4/2</td>\n",
       "      <td>no</td>\n",
       "    </tr>\n",
       "    <tr>\n",
       "      <th>1588</th>\n",
       "      <td>NISSAN Titan</td>\n",
       "      <td>5.6</td>\n",
       "      <td>8</td>\n",
       "      <td>Auto-L5</td>\n",
       "      <td>4WD</td>\n",
       "      <td>ethanol/gas</td>\n",
       "      <td>B5</td>\n",
       "      <td>8NSXT05.6G9B</td>\n",
       "      <td>pickup</td>\n",
       "      <td>6/6</td>\n",
       "      <td>9/12</td>\n",
       "      <td>12/17</td>\n",
       "      <td>10/14</td>\n",
       "      <td>4/2</td>\n",
       "      <td>no</td>\n",
       "    </tr>\n",
       "  </tbody>\n",
       "</table>\n",
       "<p>66 rows × 15 columns</p>\n",
       "</div>"
      ],
      "text/plain": [
       "                         Model  Displ  Cyl    Trans Drive         Fuel Stnd  \\\n",
       "316   CHEVROLET Avalanche 1500    5.3    8  Auto-L4   2WD  ethanol/gas   B4   \n",
       "317   CHEVROLET Avalanche 1500    5.3    8  Auto-L4   4WD  ethanol/gas   B4   \n",
       "321   CHEVROLET Avalanche 1500    5.3    8  Auto-L4   2WD  ethanol/gas   B5   \n",
       "322   CHEVROLET Avalanche 1500    5.3    8  Auto-L4   4WD  ethanol/gas   B5   \n",
       "378     CHEVROLET Express 1500    5.3    8  Auto-L4   4WD  ethanol/gas   B5   \n",
       "...                        ...    ...  ...      ...   ...          ...  ...   \n",
       "1513         MITSUBISHI Raider    4.7    8  Auto-L5   4WD  ethanol/gas   B8   \n",
       "1543             NISSAN Armada    5.6    8  Auto-L5   2WD  ethanol/gas   B5   \n",
       "1544             NISSAN Armada    5.6    8  Auto-L5   4WD  ethanol/gas   B5   \n",
       "1587              NISSAN Titan    5.6    8  Auto-L5   2WD  ethanol/gas   B5   \n",
       "1588              NISSAN Titan    5.6    8  Auto-L5   4WD  ethanol/gas   B5   \n",
       "\n",
       "      Underhood_ID Veh_Class Air_Pollution_Score City_MPG Hwy_MPG Cmb_MPG  \\\n",
       "316   8GMXT05.3381       SUV                 7/7    11/14   15/20   12/16   \n",
       "317   8GMXT05.3381       SUV                 7/7    11/14   14/19   12/16   \n",
       "321   8GMXT05.3373       SUV                 6/6    11/14   15/20   12/16   \n",
       "322   8GMXT05.3373       SUV                 6/6    11/14   14/19   12/16   \n",
       "378   8GMXT05.3373       van                 6/6     9/12   12/16   10/14   \n",
       "...            ...       ...                 ...      ...     ...     ...   \n",
       "1513  8CRXT04.7PJP    pickup                 3/3     9/14   12/19   10/15   \n",
       "1543  8NSXT05.6G9B       SUV                 6/6     9/12   13/18   10/14   \n",
       "1544  8NSXT05.6G9B       SUV                 6/6     9/12   13/17   10/14   \n",
       "1587  8NSXT05.6G9B    pickup                 6/6     9/12   13/17   10/14   \n",
       "1588  8NSXT05.6G9B    pickup                 6/6     9/12   12/17   10/14   \n",
       "\n",
       "     Greenhouse_Gas_Score SmartWay  \n",
       "316                   6/4       no  \n",
       "317                   6/4       no  \n",
       "321                   6/4       no  \n",
       "322                   6/4       no  \n",
       "378                   4/2       no  \n",
       "...                   ...      ...  \n",
       "1513                  4/3       no  \n",
       "1543                  4/2       no  \n",
       "1544                  4/2       no  \n",
       "1587                  4/2       no  \n",
       "1588                  4/2       no  \n",
       "\n",
       "[66 rows x 15 columns]"
      ]
     },
     "execution_count": 50,
     "metadata": {},
     "output_type": "execute_result"
    }
   ],
   "source": [
    "hybrid_08 = df_08[df_08.Fuel.str.contains('/')]\n",
    "hybrid_08"
   ]
  },
  {
   "cell_type": "code",
   "execution_count": 56,
   "metadata": {},
   "outputs": [],
   "source": [
    "df1 = hybrid_08.copy()\n",
    "df2 = hybrid_08.copy()"
   ]
  },
  {
   "cell_type": "code",
   "execution_count": 57,
   "metadata": {
    "scrolled": true
   },
   "outputs": [
    {
     "data": {
      "text/plain": [
       "0       Gasoline\n",
       "1       Gasoline\n",
       "2       Gasoline\n",
       "3       Gasoline\n",
       "4       Gasoline\n",
       "          ...   \n",
       "2170    Gasoline\n",
       "2171    Gasoline\n",
       "2172    Gasoline\n",
       "2173    Gasoline\n",
       "2174    Gasoline\n",
       "Name: Fuel, Length: 2175, dtype: object"
      ]
     },
     "execution_count": 57,
     "metadata": {},
     "output_type": "execute_result"
    }
   ],
   "source": [
    "df_08['Fuel']"
   ]
  },
  {
   "cell_type": "markdown",
   "metadata": {},
   "source": [
    "#### Select all rows with records of slashed values"
   ]
  },
  {
   "cell_type": "code",
   "execution_count": 58,
   "metadata": {},
   "outputs": [],
   "source": [
    "columns_with_slashes = ['Fuel', 'Air_Pollution_Score', 'City_MPG', 'Hwy_MPG', 'Cmb_MPG', 'Greenhouse_Gas_Score']\n",
    "\n",
    "for c in columns_with_slashes:\n",
    "    df1[c] = df1[c].apply(lambda  s:s.split('/')[0])\n",
    "    df2[c] = df2[c].apply(lambda  s:s.split('/')[1])"
   ]
  },
  {
   "cell_type": "code",
   "execution_count": 59,
   "metadata": {
    "scrolled": true
   },
   "outputs": [
    {
     "data": {
      "text/html": [
       "<div>\n",
       "<style scoped>\n",
       "    .dataframe tbody tr th:only-of-type {\n",
       "        vertical-align: middle;\n",
       "    }\n",
       "\n",
       "    .dataframe tbody tr th {\n",
       "        vertical-align: top;\n",
       "    }\n",
       "\n",
       "    .dataframe thead th {\n",
       "        text-align: right;\n",
       "    }\n",
       "</style>\n",
       "<table border=\"1\" class=\"dataframe\">\n",
       "  <thead>\n",
       "    <tr style=\"text-align: right;\">\n",
       "      <th></th>\n",
       "      <th>Model</th>\n",
       "      <th>Displ</th>\n",
       "      <th>Cyl</th>\n",
       "      <th>Trans</th>\n",
       "      <th>Drive</th>\n",
       "      <th>Fuel</th>\n",
       "      <th>Stnd</th>\n",
       "      <th>Underhood_ID</th>\n",
       "      <th>Veh_Class</th>\n",
       "      <th>Air_Pollution_Score</th>\n",
       "      <th>City_MPG</th>\n",
       "      <th>Hwy_MPG</th>\n",
       "      <th>Cmb_MPG</th>\n",
       "      <th>Greenhouse_Gas_Score</th>\n",
       "      <th>SmartWay</th>\n",
       "    </tr>\n",
       "  </thead>\n",
       "  <tbody>\n",
       "    <tr>\n",
       "      <th>316</th>\n",
       "      <td>CHEVROLET Avalanche 1500</td>\n",
       "      <td>5.3</td>\n",
       "      <td>8</td>\n",
       "      <td>Auto-L4</td>\n",
       "      <td>2WD</td>\n",
       "      <td>ethanol</td>\n",
       "      <td>B4</td>\n",
       "      <td>8GMXT05.3381</td>\n",
       "      <td>SUV</td>\n",
       "      <td>7</td>\n",
       "      <td>11</td>\n",
       "      <td>15</td>\n",
       "      <td>12</td>\n",
       "      <td>6</td>\n",
       "      <td>no</td>\n",
       "    </tr>\n",
       "    <tr>\n",
       "      <th>317</th>\n",
       "      <td>CHEVROLET Avalanche 1500</td>\n",
       "      <td>5.3</td>\n",
       "      <td>8</td>\n",
       "      <td>Auto-L4</td>\n",
       "      <td>4WD</td>\n",
       "      <td>ethanol</td>\n",
       "      <td>B4</td>\n",
       "      <td>8GMXT05.3381</td>\n",
       "      <td>SUV</td>\n",
       "      <td>7</td>\n",
       "      <td>11</td>\n",
       "      <td>14</td>\n",
       "      <td>12</td>\n",
       "      <td>6</td>\n",
       "      <td>no</td>\n",
       "    </tr>\n",
       "    <tr>\n",
       "      <th>321</th>\n",
       "      <td>CHEVROLET Avalanche 1500</td>\n",
       "      <td>5.3</td>\n",
       "      <td>8</td>\n",
       "      <td>Auto-L4</td>\n",
       "      <td>2WD</td>\n",
       "      <td>ethanol</td>\n",
       "      <td>B5</td>\n",
       "      <td>8GMXT05.3373</td>\n",
       "      <td>SUV</td>\n",
       "      <td>6</td>\n",
       "      <td>11</td>\n",
       "      <td>15</td>\n",
       "      <td>12</td>\n",
       "      <td>6</td>\n",
       "      <td>no</td>\n",
       "    </tr>\n",
       "    <tr>\n",
       "      <th>322</th>\n",
       "      <td>CHEVROLET Avalanche 1500</td>\n",
       "      <td>5.3</td>\n",
       "      <td>8</td>\n",
       "      <td>Auto-L4</td>\n",
       "      <td>4WD</td>\n",
       "      <td>ethanol</td>\n",
       "      <td>B5</td>\n",
       "      <td>8GMXT05.3373</td>\n",
       "      <td>SUV</td>\n",
       "      <td>6</td>\n",
       "      <td>11</td>\n",
       "      <td>14</td>\n",
       "      <td>12</td>\n",
       "      <td>6</td>\n",
       "      <td>no</td>\n",
       "    </tr>\n",
       "    <tr>\n",
       "      <th>378</th>\n",
       "      <td>CHEVROLET Express 1500</td>\n",
       "      <td>5.3</td>\n",
       "      <td>8</td>\n",
       "      <td>Auto-L4</td>\n",
       "      <td>4WD</td>\n",
       "      <td>ethanol</td>\n",
       "      <td>B5</td>\n",
       "      <td>8GMXT05.3373</td>\n",
       "      <td>van</td>\n",
       "      <td>6</td>\n",
       "      <td>9</td>\n",
       "      <td>12</td>\n",
       "      <td>10</td>\n",
       "      <td>4</td>\n",
       "      <td>no</td>\n",
       "    </tr>\n",
       "    <tr>\n",
       "      <th>...</th>\n",
       "      <td>...</td>\n",
       "      <td>...</td>\n",
       "      <td>...</td>\n",
       "      <td>...</td>\n",
       "      <td>...</td>\n",
       "      <td>...</td>\n",
       "      <td>...</td>\n",
       "      <td>...</td>\n",
       "      <td>...</td>\n",
       "      <td>...</td>\n",
       "      <td>...</td>\n",
       "      <td>...</td>\n",
       "      <td>...</td>\n",
       "      <td>...</td>\n",
       "      <td>...</td>\n",
       "    </tr>\n",
       "    <tr>\n",
       "      <th>1513</th>\n",
       "      <td>MITSUBISHI Raider</td>\n",
       "      <td>4.7</td>\n",
       "      <td>8</td>\n",
       "      <td>Auto-L5</td>\n",
       "      <td>4WD</td>\n",
       "      <td>ethanol</td>\n",
       "      <td>B8</td>\n",
       "      <td>8CRXT04.7PJP</td>\n",
       "      <td>pickup</td>\n",
       "      <td>3</td>\n",
       "      <td>9</td>\n",
       "      <td>12</td>\n",
       "      <td>10</td>\n",
       "      <td>4</td>\n",
       "      <td>no</td>\n",
       "    </tr>\n",
       "    <tr>\n",
       "      <th>1543</th>\n",
       "      <td>NISSAN Armada</td>\n",
       "      <td>5.6</td>\n",
       "      <td>8</td>\n",
       "      <td>Auto-L5</td>\n",
       "      <td>2WD</td>\n",
       "      <td>ethanol</td>\n",
       "      <td>B5</td>\n",
       "      <td>8NSXT05.6G9B</td>\n",
       "      <td>SUV</td>\n",
       "      <td>6</td>\n",
       "      <td>9</td>\n",
       "      <td>13</td>\n",
       "      <td>10</td>\n",
       "      <td>4</td>\n",
       "      <td>no</td>\n",
       "    </tr>\n",
       "    <tr>\n",
       "      <th>1544</th>\n",
       "      <td>NISSAN Armada</td>\n",
       "      <td>5.6</td>\n",
       "      <td>8</td>\n",
       "      <td>Auto-L5</td>\n",
       "      <td>4WD</td>\n",
       "      <td>ethanol</td>\n",
       "      <td>B5</td>\n",
       "      <td>8NSXT05.6G9B</td>\n",
       "      <td>SUV</td>\n",
       "      <td>6</td>\n",
       "      <td>9</td>\n",
       "      <td>13</td>\n",
       "      <td>10</td>\n",
       "      <td>4</td>\n",
       "      <td>no</td>\n",
       "    </tr>\n",
       "    <tr>\n",
       "      <th>1587</th>\n",
       "      <td>NISSAN Titan</td>\n",
       "      <td>5.6</td>\n",
       "      <td>8</td>\n",
       "      <td>Auto-L5</td>\n",
       "      <td>2WD</td>\n",
       "      <td>ethanol</td>\n",
       "      <td>B5</td>\n",
       "      <td>8NSXT05.6G9B</td>\n",
       "      <td>pickup</td>\n",
       "      <td>6</td>\n",
       "      <td>9</td>\n",
       "      <td>13</td>\n",
       "      <td>10</td>\n",
       "      <td>4</td>\n",
       "      <td>no</td>\n",
       "    </tr>\n",
       "    <tr>\n",
       "      <th>1588</th>\n",
       "      <td>NISSAN Titan</td>\n",
       "      <td>5.6</td>\n",
       "      <td>8</td>\n",
       "      <td>Auto-L5</td>\n",
       "      <td>4WD</td>\n",
       "      <td>ethanol</td>\n",
       "      <td>B5</td>\n",
       "      <td>8NSXT05.6G9B</td>\n",
       "      <td>pickup</td>\n",
       "      <td>6</td>\n",
       "      <td>9</td>\n",
       "      <td>12</td>\n",
       "      <td>10</td>\n",
       "      <td>4</td>\n",
       "      <td>no</td>\n",
       "    </tr>\n",
       "  </tbody>\n",
       "</table>\n",
       "<p>66 rows × 15 columns</p>\n",
       "</div>"
      ],
      "text/plain": [
       "                         Model  Displ  Cyl    Trans Drive     Fuel Stnd  \\\n",
       "316   CHEVROLET Avalanche 1500    5.3    8  Auto-L4   2WD  ethanol   B4   \n",
       "317   CHEVROLET Avalanche 1500    5.3    8  Auto-L4   4WD  ethanol   B4   \n",
       "321   CHEVROLET Avalanche 1500    5.3    8  Auto-L4   2WD  ethanol   B5   \n",
       "322   CHEVROLET Avalanche 1500    5.3    8  Auto-L4   4WD  ethanol   B5   \n",
       "378     CHEVROLET Express 1500    5.3    8  Auto-L4   4WD  ethanol   B5   \n",
       "...                        ...    ...  ...      ...   ...      ...  ...   \n",
       "1513         MITSUBISHI Raider    4.7    8  Auto-L5   4WD  ethanol   B8   \n",
       "1543             NISSAN Armada    5.6    8  Auto-L5   2WD  ethanol   B5   \n",
       "1544             NISSAN Armada    5.6    8  Auto-L5   4WD  ethanol   B5   \n",
       "1587              NISSAN Titan    5.6    8  Auto-L5   2WD  ethanol   B5   \n",
       "1588              NISSAN Titan    5.6    8  Auto-L5   4WD  ethanol   B5   \n",
       "\n",
       "      Underhood_ID Veh_Class Air_Pollution_Score City_MPG Hwy_MPG Cmb_MPG  \\\n",
       "316   8GMXT05.3381       SUV                   7       11      15      12   \n",
       "317   8GMXT05.3381       SUV                   7       11      14      12   \n",
       "321   8GMXT05.3373       SUV                   6       11      15      12   \n",
       "322   8GMXT05.3373       SUV                   6       11      14      12   \n",
       "378   8GMXT05.3373       van                   6        9      12      10   \n",
       "...            ...       ...                 ...      ...     ...     ...   \n",
       "1513  8CRXT04.7PJP    pickup                   3        9      12      10   \n",
       "1543  8NSXT05.6G9B       SUV                   6        9      13      10   \n",
       "1544  8NSXT05.6G9B       SUV                   6        9      13      10   \n",
       "1587  8NSXT05.6G9B    pickup                   6        9      13      10   \n",
       "1588  8NSXT05.6G9B    pickup                   6        9      12      10   \n",
       "\n",
       "     Greenhouse_Gas_Score SmartWay  \n",
       "316                     6       no  \n",
       "317                     6       no  \n",
       "321                     6       no  \n",
       "322                     6       no  \n",
       "378                     4       no  \n",
       "...                   ...      ...  \n",
       "1513                    4       no  \n",
       "1543                    4       no  \n",
       "1544                    4       no  \n",
       "1587                    4       no  \n",
       "1588                    4       no  \n",
       "\n",
       "[66 rows x 15 columns]"
      ]
     },
     "execution_count": 59,
     "metadata": {},
     "output_type": "execute_result"
    }
   ],
   "source": [
    "df1"
   ]
  },
  {
   "cell_type": "code",
   "execution_count": 60,
   "metadata": {
    "scrolled": true
   },
   "outputs": [
    {
     "data": {
      "text/html": [
       "<div>\n",
       "<style scoped>\n",
       "    .dataframe tbody tr th:only-of-type {\n",
       "        vertical-align: middle;\n",
       "    }\n",
       "\n",
       "    .dataframe tbody tr th {\n",
       "        vertical-align: top;\n",
       "    }\n",
       "\n",
       "    .dataframe thead th {\n",
       "        text-align: right;\n",
       "    }\n",
       "</style>\n",
       "<table border=\"1\" class=\"dataframe\">\n",
       "  <thead>\n",
       "    <tr style=\"text-align: right;\">\n",
       "      <th></th>\n",
       "      <th>Model</th>\n",
       "      <th>Displ</th>\n",
       "      <th>Cyl</th>\n",
       "      <th>Trans</th>\n",
       "      <th>Drive</th>\n",
       "      <th>Fuel</th>\n",
       "      <th>Stnd</th>\n",
       "      <th>Underhood_ID</th>\n",
       "      <th>Veh_Class</th>\n",
       "      <th>Air_Pollution_Score</th>\n",
       "      <th>City_MPG</th>\n",
       "      <th>Hwy_MPG</th>\n",
       "      <th>Cmb_MPG</th>\n",
       "      <th>Greenhouse_Gas_Score</th>\n",
       "      <th>SmartWay</th>\n",
       "    </tr>\n",
       "  </thead>\n",
       "  <tbody>\n",
       "    <tr>\n",
       "      <th>316</th>\n",
       "      <td>CHEVROLET Avalanche 1500</td>\n",
       "      <td>5.3</td>\n",
       "      <td>8</td>\n",
       "      <td>Auto-L4</td>\n",
       "      <td>2WD</td>\n",
       "      <td>gas</td>\n",
       "      <td>B4</td>\n",
       "      <td>8GMXT05.3381</td>\n",
       "      <td>SUV</td>\n",
       "      <td>7</td>\n",
       "      <td>14</td>\n",
       "      <td>20</td>\n",
       "      <td>16</td>\n",
       "      <td>4</td>\n",
       "      <td>no</td>\n",
       "    </tr>\n",
       "    <tr>\n",
       "      <th>317</th>\n",
       "      <td>CHEVROLET Avalanche 1500</td>\n",
       "      <td>5.3</td>\n",
       "      <td>8</td>\n",
       "      <td>Auto-L4</td>\n",
       "      <td>4WD</td>\n",
       "      <td>gas</td>\n",
       "      <td>B4</td>\n",
       "      <td>8GMXT05.3381</td>\n",
       "      <td>SUV</td>\n",
       "      <td>7</td>\n",
       "      <td>14</td>\n",
       "      <td>19</td>\n",
       "      <td>16</td>\n",
       "      <td>4</td>\n",
       "      <td>no</td>\n",
       "    </tr>\n",
       "    <tr>\n",
       "      <th>321</th>\n",
       "      <td>CHEVROLET Avalanche 1500</td>\n",
       "      <td>5.3</td>\n",
       "      <td>8</td>\n",
       "      <td>Auto-L4</td>\n",
       "      <td>2WD</td>\n",
       "      <td>gas</td>\n",
       "      <td>B5</td>\n",
       "      <td>8GMXT05.3373</td>\n",
       "      <td>SUV</td>\n",
       "      <td>6</td>\n",
       "      <td>14</td>\n",
       "      <td>20</td>\n",
       "      <td>16</td>\n",
       "      <td>4</td>\n",
       "      <td>no</td>\n",
       "    </tr>\n",
       "    <tr>\n",
       "      <th>322</th>\n",
       "      <td>CHEVROLET Avalanche 1500</td>\n",
       "      <td>5.3</td>\n",
       "      <td>8</td>\n",
       "      <td>Auto-L4</td>\n",
       "      <td>4WD</td>\n",
       "      <td>gas</td>\n",
       "      <td>B5</td>\n",
       "      <td>8GMXT05.3373</td>\n",
       "      <td>SUV</td>\n",
       "      <td>6</td>\n",
       "      <td>14</td>\n",
       "      <td>19</td>\n",
       "      <td>16</td>\n",
       "      <td>4</td>\n",
       "      <td>no</td>\n",
       "    </tr>\n",
       "    <tr>\n",
       "      <th>378</th>\n",
       "      <td>CHEVROLET Express 1500</td>\n",
       "      <td>5.3</td>\n",
       "      <td>8</td>\n",
       "      <td>Auto-L4</td>\n",
       "      <td>4WD</td>\n",
       "      <td>gas</td>\n",
       "      <td>B5</td>\n",
       "      <td>8GMXT05.3373</td>\n",
       "      <td>van</td>\n",
       "      <td>6</td>\n",
       "      <td>12</td>\n",
       "      <td>16</td>\n",
       "      <td>14</td>\n",
       "      <td>2</td>\n",
       "      <td>no</td>\n",
       "    </tr>\n",
       "    <tr>\n",
       "      <th>...</th>\n",
       "      <td>...</td>\n",
       "      <td>...</td>\n",
       "      <td>...</td>\n",
       "      <td>...</td>\n",
       "      <td>...</td>\n",
       "      <td>...</td>\n",
       "      <td>...</td>\n",
       "      <td>...</td>\n",
       "      <td>...</td>\n",
       "      <td>...</td>\n",
       "      <td>...</td>\n",
       "      <td>...</td>\n",
       "      <td>...</td>\n",
       "      <td>...</td>\n",
       "      <td>...</td>\n",
       "    </tr>\n",
       "    <tr>\n",
       "      <th>1513</th>\n",
       "      <td>MITSUBISHI Raider</td>\n",
       "      <td>4.7</td>\n",
       "      <td>8</td>\n",
       "      <td>Auto-L5</td>\n",
       "      <td>4WD</td>\n",
       "      <td>gas</td>\n",
       "      <td>B8</td>\n",
       "      <td>8CRXT04.7PJP</td>\n",
       "      <td>pickup</td>\n",
       "      <td>3</td>\n",
       "      <td>14</td>\n",
       "      <td>19</td>\n",
       "      <td>15</td>\n",
       "      <td>3</td>\n",
       "      <td>no</td>\n",
       "    </tr>\n",
       "    <tr>\n",
       "      <th>1543</th>\n",
       "      <td>NISSAN Armada</td>\n",
       "      <td>5.6</td>\n",
       "      <td>8</td>\n",
       "      <td>Auto-L5</td>\n",
       "      <td>2WD</td>\n",
       "      <td>gas</td>\n",
       "      <td>B5</td>\n",
       "      <td>8NSXT05.6G9B</td>\n",
       "      <td>SUV</td>\n",
       "      <td>6</td>\n",
       "      <td>12</td>\n",
       "      <td>18</td>\n",
       "      <td>14</td>\n",
       "      <td>2</td>\n",
       "      <td>no</td>\n",
       "    </tr>\n",
       "    <tr>\n",
       "      <th>1544</th>\n",
       "      <td>NISSAN Armada</td>\n",
       "      <td>5.6</td>\n",
       "      <td>8</td>\n",
       "      <td>Auto-L5</td>\n",
       "      <td>4WD</td>\n",
       "      <td>gas</td>\n",
       "      <td>B5</td>\n",
       "      <td>8NSXT05.6G9B</td>\n",
       "      <td>SUV</td>\n",
       "      <td>6</td>\n",
       "      <td>12</td>\n",
       "      <td>17</td>\n",
       "      <td>14</td>\n",
       "      <td>2</td>\n",
       "      <td>no</td>\n",
       "    </tr>\n",
       "    <tr>\n",
       "      <th>1587</th>\n",
       "      <td>NISSAN Titan</td>\n",
       "      <td>5.6</td>\n",
       "      <td>8</td>\n",
       "      <td>Auto-L5</td>\n",
       "      <td>2WD</td>\n",
       "      <td>gas</td>\n",
       "      <td>B5</td>\n",
       "      <td>8NSXT05.6G9B</td>\n",
       "      <td>pickup</td>\n",
       "      <td>6</td>\n",
       "      <td>12</td>\n",
       "      <td>17</td>\n",
       "      <td>14</td>\n",
       "      <td>2</td>\n",
       "      <td>no</td>\n",
       "    </tr>\n",
       "    <tr>\n",
       "      <th>1588</th>\n",
       "      <td>NISSAN Titan</td>\n",
       "      <td>5.6</td>\n",
       "      <td>8</td>\n",
       "      <td>Auto-L5</td>\n",
       "      <td>4WD</td>\n",
       "      <td>gas</td>\n",
       "      <td>B5</td>\n",
       "      <td>8NSXT05.6G9B</td>\n",
       "      <td>pickup</td>\n",
       "      <td>6</td>\n",
       "      <td>12</td>\n",
       "      <td>17</td>\n",
       "      <td>14</td>\n",
       "      <td>2</td>\n",
       "      <td>no</td>\n",
       "    </tr>\n",
       "  </tbody>\n",
       "</table>\n",
       "<p>66 rows × 15 columns</p>\n",
       "</div>"
      ],
      "text/plain": [
       "                         Model  Displ  Cyl    Trans Drive Fuel Stnd  \\\n",
       "316   CHEVROLET Avalanche 1500    5.3    8  Auto-L4   2WD  gas   B4   \n",
       "317   CHEVROLET Avalanche 1500    5.3    8  Auto-L4   4WD  gas   B4   \n",
       "321   CHEVROLET Avalanche 1500    5.3    8  Auto-L4   2WD  gas   B5   \n",
       "322   CHEVROLET Avalanche 1500    5.3    8  Auto-L4   4WD  gas   B5   \n",
       "378     CHEVROLET Express 1500    5.3    8  Auto-L4   4WD  gas   B5   \n",
       "...                        ...    ...  ...      ...   ...  ...  ...   \n",
       "1513         MITSUBISHI Raider    4.7    8  Auto-L5   4WD  gas   B8   \n",
       "1543             NISSAN Armada    5.6    8  Auto-L5   2WD  gas   B5   \n",
       "1544             NISSAN Armada    5.6    8  Auto-L5   4WD  gas   B5   \n",
       "1587              NISSAN Titan    5.6    8  Auto-L5   2WD  gas   B5   \n",
       "1588              NISSAN Titan    5.6    8  Auto-L5   4WD  gas   B5   \n",
       "\n",
       "      Underhood_ID Veh_Class Air_Pollution_Score City_MPG Hwy_MPG Cmb_MPG  \\\n",
       "316   8GMXT05.3381       SUV                   7       14      20      16   \n",
       "317   8GMXT05.3381       SUV                   7       14      19      16   \n",
       "321   8GMXT05.3373       SUV                   6       14      20      16   \n",
       "322   8GMXT05.3373       SUV                   6       14      19      16   \n",
       "378   8GMXT05.3373       van                   6       12      16      14   \n",
       "...            ...       ...                 ...      ...     ...     ...   \n",
       "1513  8CRXT04.7PJP    pickup                   3       14      19      15   \n",
       "1543  8NSXT05.6G9B       SUV                   6       12      18      14   \n",
       "1544  8NSXT05.6G9B       SUV                   6       12      17      14   \n",
       "1587  8NSXT05.6G9B    pickup                   6       12      17      14   \n",
       "1588  8NSXT05.6G9B    pickup                   6       12      17      14   \n",
       "\n",
       "     Greenhouse_Gas_Score SmartWay  \n",
       "316                     4       no  \n",
       "317                     4       no  \n",
       "321                     4       no  \n",
       "322                     4       no  \n",
       "378                     2       no  \n",
       "...                   ...      ...  \n",
       "1513                    3       no  \n",
       "1543                    2       no  \n",
       "1544                    2       no  \n",
       "1587                    2       no  \n",
       "1588                    2       no  \n",
       "\n",
       "[66 rows x 15 columns]"
      ]
     },
     "execution_count": 60,
     "metadata": {},
     "output_type": "execute_result"
    }
   ],
   "source": [
    "df2"
   ]
  },
  {
   "cell_type": "code",
   "execution_count": 61,
   "metadata": {
    "scrolled": true
   },
   "outputs": [
    {
     "data": {
      "text/html": [
       "<div>\n",
       "<style scoped>\n",
       "    .dataframe tbody tr th:only-of-type {\n",
       "        vertical-align: middle;\n",
       "    }\n",
       "\n",
       "    .dataframe tbody tr th {\n",
       "        vertical-align: top;\n",
       "    }\n",
       "\n",
       "    .dataframe thead th {\n",
       "        text-align: right;\n",
       "    }\n",
       "</style>\n",
       "<table border=\"1\" class=\"dataframe\">\n",
       "  <thead>\n",
       "    <tr style=\"text-align: right;\">\n",
       "      <th></th>\n",
       "      <th>Model</th>\n",
       "      <th>Displ</th>\n",
       "      <th>Cyl</th>\n",
       "      <th>Trans</th>\n",
       "      <th>Drive</th>\n",
       "      <th>Fuel</th>\n",
       "      <th>Stnd</th>\n",
       "      <th>Underhood_ID</th>\n",
       "      <th>Veh_Class</th>\n",
       "      <th>Air_Pollution_Score</th>\n",
       "      <th>City_MPG</th>\n",
       "      <th>Hwy_MPG</th>\n",
       "      <th>Cmb_MPG</th>\n",
       "      <th>Greenhouse_Gas_Score</th>\n",
       "      <th>SmartWay</th>\n",
       "    </tr>\n",
       "  </thead>\n",
       "  <tbody>\n",
       "    <tr>\n",
       "      <th>316</th>\n",
       "      <td>CHEVROLET Avalanche 1500</td>\n",
       "      <td>5.3</td>\n",
       "      <td>8</td>\n",
       "      <td>Auto-L4</td>\n",
       "      <td>2WD</td>\n",
       "      <td>ethanol</td>\n",
       "      <td>B4</td>\n",
       "      <td>8GMXT05.3381</td>\n",
       "      <td>SUV</td>\n",
       "      <td>7</td>\n",
       "      <td>11</td>\n",
       "      <td>15</td>\n",
       "      <td>12</td>\n",
       "      <td>6</td>\n",
       "      <td>no</td>\n",
       "    </tr>\n",
       "    <tr>\n",
       "      <th>317</th>\n",
       "      <td>CHEVROLET Avalanche 1500</td>\n",
       "      <td>5.3</td>\n",
       "      <td>8</td>\n",
       "      <td>Auto-L4</td>\n",
       "      <td>4WD</td>\n",
       "      <td>ethanol</td>\n",
       "      <td>B4</td>\n",
       "      <td>8GMXT05.3381</td>\n",
       "      <td>SUV</td>\n",
       "      <td>7</td>\n",
       "      <td>11</td>\n",
       "      <td>14</td>\n",
       "      <td>12</td>\n",
       "      <td>6</td>\n",
       "      <td>no</td>\n",
       "    </tr>\n",
       "    <tr>\n",
       "      <th>321</th>\n",
       "      <td>CHEVROLET Avalanche 1500</td>\n",
       "      <td>5.3</td>\n",
       "      <td>8</td>\n",
       "      <td>Auto-L4</td>\n",
       "      <td>2WD</td>\n",
       "      <td>ethanol</td>\n",
       "      <td>B5</td>\n",
       "      <td>8GMXT05.3373</td>\n",
       "      <td>SUV</td>\n",
       "      <td>6</td>\n",
       "      <td>11</td>\n",
       "      <td>15</td>\n",
       "      <td>12</td>\n",
       "      <td>6</td>\n",
       "      <td>no</td>\n",
       "    </tr>\n",
       "    <tr>\n",
       "      <th>322</th>\n",
       "      <td>CHEVROLET Avalanche 1500</td>\n",
       "      <td>5.3</td>\n",
       "      <td>8</td>\n",
       "      <td>Auto-L4</td>\n",
       "      <td>4WD</td>\n",
       "      <td>ethanol</td>\n",
       "      <td>B5</td>\n",
       "      <td>8GMXT05.3373</td>\n",
       "      <td>SUV</td>\n",
       "      <td>6</td>\n",
       "      <td>11</td>\n",
       "      <td>14</td>\n",
       "      <td>12</td>\n",
       "      <td>6</td>\n",
       "      <td>no</td>\n",
       "    </tr>\n",
       "    <tr>\n",
       "      <th>378</th>\n",
       "      <td>CHEVROLET Express 1500</td>\n",
       "      <td>5.3</td>\n",
       "      <td>8</td>\n",
       "      <td>Auto-L4</td>\n",
       "      <td>4WD</td>\n",
       "      <td>ethanol</td>\n",
       "      <td>B5</td>\n",
       "      <td>8GMXT05.3373</td>\n",
       "      <td>van</td>\n",
       "      <td>6</td>\n",
       "      <td>9</td>\n",
       "      <td>12</td>\n",
       "      <td>10</td>\n",
       "      <td>4</td>\n",
       "      <td>no</td>\n",
       "    </tr>\n",
       "    <tr>\n",
       "      <th>...</th>\n",
       "      <td>...</td>\n",
       "      <td>...</td>\n",
       "      <td>...</td>\n",
       "      <td>...</td>\n",
       "      <td>...</td>\n",
       "      <td>...</td>\n",
       "      <td>...</td>\n",
       "      <td>...</td>\n",
       "      <td>...</td>\n",
       "      <td>...</td>\n",
       "      <td>...</td>\n",
       "      <td>...</td>\n",
       "      <td>...</td>\n",
       "      <td>...</td>\n",
       "      <td>...</td>\n",
       "    </tr>\n",
       "    <tr>\n",
       "      <th>1513</th>\n",
       "      <td>MITSUBISHI Raider</td>\n",
       "      <td>4.7</td>\n",
       "      <td>8</td>\n",
       "      <td>Auto-L5</td>\n",
       "      <td>4WD</td>\n",
       "      <td>gas</td>\n",
       "      <td>B8</td>\n",
       "      <td>8CRXT04.7PJP</td>\n",
       "      <td>pickup</td>\n",
       "      <td>3</td>\n",
       "      <td>14</td>\n",
       "      <td>19</td>\n",
       "      <td>15</td>\n",
       "      <td>3</td>\n",
       "      <td>no</td>\n",
       "    </tr>\n",
       "    <tr>\n",
       "      <th>1543</th>\n",
       "      <td>NISSAN Armada</td>\n",
       "      <td>5.6</td>\n",
       "      <td>8</td>\n",
       "      <td>Auto-L5</td>\n",
       "      <td>2WD</td>\n",
       "      <td>gas</td>\n",
       "      <td>B5</td>\n",
       "      <td>8NSXT05.6G9B</td>\n",
       "      <td>SUV</td>\n",
       "      <td>6</td>\n",
       "      <td>12</td>\n",
       "      <td>18</td>\n",
       "      <td>14</td>\n",
       "      <td>2</td>\n",
       "      <td>no</td>\n",
       "    </tr>\n",
       "    <tr>\n",
       "      <th>1544</th>\n",
       "      <td>NISSAN Armada</td>\n",
       "      <td>5.6</td>\n",
       "      <td>8</td>\n",
       "      <td>Auto-L5</td>\n",
       "      <td>4WD</td>\n",
       "      <td>gas</td>\n",
       "      <td>B5</td>\n",
       "      <td>8NSXT05.6G9B</td>\n",
       "      <td>SUV</td>\n",
       "      <td>6</td>\n",
       "      <td>12</td>\n",
       "      <td>17</td>\n",
       "      <td>14</td>\n",
       "      <td>2</td>\n",
       "      <td>no</td>\n",
       "    </tr>\n",
       "    <tr>\n",
       "      <th>1587</th>\n",
       "      <td>NISSAN Titan</td>\n",
       "      <td>5.6</td>\n",
       "      <td>8</td>\n",
       "      <td>Auto-L5</td>\n",
       "      <td>2WD</td>\n",
       "      <td>gas</td>\n",
       "      <td>B5</td>\n",
       "      <td>8NSXT05.6G9B</td>\n",
       "      <td>pickup</td>\n",
       "      <td>6</td>\n",
       "      <td>12</td>\n",
       "      <td>17</td>\n",
       "      <td>14</td>\n",
       "      <td>2</td>\n",
       "      <td>no</td>\n",
       "    </tr>\n",
       "    <tr>\n",
       "      <th>1588</th>\n",
       "      <td>NISSAN Titan</td>\n",
       "      <td>5.6</td>\n",
       "      <td>8</td>\n",
       "      <td>Auto-L5</td>\n",
       "      <td>4WD</td>\n",
       "      <td>gas</td>\n",
       "      <td>B5</td>\n",
       "      <td>8NSXT05.6G9B</td>\n",
       "      <td>pickup</td>\n",
       "      <td>6</td>\n",
       "      <td>12</td>\n",
       "      <td>17</td>\n",
       "      <td>14</td>\n",
       "      <td>2</td>\n",
       "      <td>no</td>\n",
       "    </tr>\n",
       "  </tbody>\n",
       "</table>\n",
       "<p>132 rows × 15 columns</p>\n",
       "</div>"
      ],
      "text/plain": [
       "                         Model  Displ  Cyl    Trans Drive     Fuel Stnd  \\\n",
       "316   CHEVROLET Avalanche 1500    5.3    8  Auto-L4   2WD  ethanol   B4   \n",
       "317   CHEVROLET Avalanche 1500    5.3    8  Auto-L4   4WD  ethanol   B4   \n",
       "321   CHEVROLET Avalanche 1500    5.3    8  Auto-L4   2WD  ethanol   B5   \n",
       "322   CHEVROLET Avalanche 1500    5.3    8  Auto-L4   4WD  ethanol   B5   \n",
       "378     CHEVROLET Express 1500    5.3    8  Auto-L4   4WD  ethanol   B5   \n",
       "...                        ...    ...  ...      ...   ...      ...  ...   \n",
       "1513         MITSUBISHI Raider    4.7    8  Auto-L5   4WD      gas   B8   \n",
       "1543             NISSAN Armada    5.6    8  Auto-L5   2WD      gas   B5   \n",
       "1544             NISSAN Armada    5.6    8  Auto-L5   4WD      gas   B5   \n",
       "1587              NISSAN Titan    5.6    8  Auto-L5   2WD      gas   B5   \n",
       "1588              NISSAN Titan    5.6    8  Auto-L5   4WD      gas   B5   \n",
       "\n",
       "      Underhood_ID Veh_Class Air_Pollution_Score City_MPG Hwy_MPG Cmb_MPG  \\\n",
       "316   8GMXT05.3381       SUV                   7       11      15      12   \n",
       "317   8GMXT05.3381       SUV                   7       11      14      12   \n",
       "321   8GMXT05.3373       SUV                   6       11      15      12   \n",
       "322   8GMXT05.3373       SUV                   6       11      14      12   \n",
       "378   8GMXT05.3373       van                   6        9      12      10   \n",
       "...            ...       ...                 ...      ...     ...     ...   \n",
       "1513  8CRXT04.7PJP    pickup                   3       14      19      15   \n",
       "1543  8NSXT05.6G9B       SUV                   6       12      18      14   \n",
       "1544  8NSXT05.6G9B       SUV                   6       12      17      14   \n",
       "1587  8NSXT05.6G9B    pickup                   6       12      17      14   \n",
       "1588  8NSXT05.6G9B    pickup                   6       12      17      14   \n",
       "\n",
       "     Greenhouse_Gas_Score SmartWay  \n",
       "316                     6       no  \n",
       "317                     6       no  \n",
       "321                     6       no  \n",
       "322                     6       no  \n",
       "378                     4       no  \n",
       "...                   ...      ...  \n",
       "1513                    3       no  \n",
       "1543                    2       no  \n",
       "1544                    2       no  \n",
       "1587                    2       no  \n",
       "1588                    2       no  \n",
       "\n",
       "[132 rows x 15 columns]"
      ]
     },
     "execution_count": 61,
     "metadata": {},
     "output_type": "execute_result"
    }
   ],
   "source": [
    "df1.append(df2)"
   ]
  },
  {
   "cell_type": "code",
   "execution_count": 62,
   "metadata": {},
   "outputs": [],
   "source": [
    "df_08.drop(hybrid_08.index, inplace=True)\n",
    "df_08 = df_08.append(df1.append(df2), ignore_index=True)"
   ]
  },
  {
   "cell_type": "code",
   "execution_count": 64,
   "metadata": {},
   "outputs": [
    {
     "data": {
      "text/html": [
       "<div>\n",
       "<style scoped>\n",
       "    .dataframe tbody tr th:only-of-type {\n",
       "        vertical-align: middle;\n",
       "    }\n",
       "\n",
       "    .dataframe tbody tr th {\n",
       "        vertical-align: top;\n",
       "    }\n",
       "\n",
       "    .dataframe thead th {\n",
       "        text-align: right;\n",
       "    }\n",
       "</style>\n",
       "<table border=\"1\" class=\"dataframe\">\n",
       "  <thead>\n",
       "    <tr style=\"text-align: right;\">\n",
       "      <th></th>\n",
       "      <th>Model</th>\n",
       "      <th>Displ</th>\n",
       "      <th>Cyl</th>\n",
       "      <th>Trans</th>\n",
       "      <th>Drive</th>\n",
       "      <th>Fuel</th>\n",
       "      <th>Stnd</th>\n",
       "      <th>Underhood_ID</th>\n",
       "      <th>Veh_Class</th>\n",
       "      <th>Air_Pollution_Score</th>\n",
       "      <th>City_MPG</th>\n",
       "      <th>Hwy_MPG</th>\n",
       "      <th>Cmb_MPG</th>\n",
       "      <th>Greenhouse_Gas_Score</th>\n",
       "      <th>SmartWay</th>\n",
       "    </tr>\n",
       "  </thead>\n",
       "  <tbody>\n",
       "  </tbody>\n",
       "</table>\n",
       "</div>"
      ],
      "text/plain": [
       "Empty DataFrame\n",
       "Columns: [Model, Displ, Cyl, Trans, Drive, Fuel, Stnd, Underhood_ID, Veh_Class, Air_Pollution_Score, City_MPG, Hwy_MPG, Cmb_MPG, Greenhouse_Gas_Score, SmartWay]\n",
       "Index: []"
      ]
     },
     "execution_count": 64,
     "metadata": {},
     "output_type": "execute_result"
    }
   ],
   "source": [
    "df_08[df_08['Fuel'].str.contains('/')]"
   ]
  },
  {
   "cell_type": "markdown",
   "metadata": {},
   "source": [
    "### Repeat for 2018"
   ]
  },
  {
   "cell_type": "code",
   "execution_count": 70,
   "metadata": {
    "scrolled": true
   },
   "outputs": [
    {
     "data": {
      "text/html": [
       "<div>\n",
       "<style scoped>\n",
       "    .dataframe tbody tr th:only-of-type {\n",
       "        vertical-align: middle;\n",
       "    }\n",
       "\n",
       "    .dataframe tbody tr th {\n",
       "        vertical-align: top;\n",
       "    }\n",
       "\n",
       "    .dataframe thead th {\n",
       "        text-align: right;\n",
       "    }\n",
       "</style>\n",
       "<table border=\"1\" class=\"dataframe\">\n",
       "  <thead>\n",
       "    <tr style=\"text-align: right;\">\n",
       "      <th></th>\n",
       "      <th>Model</th>\n",
       "      <th>Displ</th>\n",
       "      <th>Cyl</th>\n",
       "      <th>Trans</th>\n",
       "      <th>Drive</th>\n",
       "      <th>Fuel</th>\n",
       "      <th>Stnd</th>\n",
       "      <th>Underhood_ID</th>\n",
       "      <th>Veh_Class</th>\n",
       "      <th>Air_Pollution_Score</th>\n",
       "      <th>City_MPG</th>\n",
       "      <th>Hwy_MPG</th>\n",
       "      <th>Cmb_MPG</th>\n",
       "      <th>Greenhouse_Gas_Score</th>\n",
       "      <th>SmartWay</th>\n",
       "    </tr>\n",
       "  </thead>\n",
       "  <tbody>\n",
       "    <tr>\n",
       "      <th>1487</th>\n",
       "      <td>BMW 330e</td>\n",
       "      <td>2.0</td>\n",
       "      <td>4</td>\n",
       "      <td>SemiAuto-8</td>\n",
       "      <td>2WD</td>\n",
       "      <td>Gasoline/Electricity</td>\n",
       "      <td>L3ULEV125</td>\n",
       "      <td>JBMXV02.0H48</td>\n",
       "      <td>small car</td>\n",
       "      <td>3</td>\n",
       "      <td>28/66</td>\n",
       "      <td>34/78</td>\n",
       "      <td>30/71</td>\n",
       "      <td>10</td>\n",
       "      <td>Yes</td>\n",
       "    </tr>\n",
       "    <tr>\n",
       "      <th>1488</th>\n",
       "      <td>BMW 330e</td>\n",
       "      <td>2.0</td>\n",
       "      <td>4</td>\n",
       "      <td>SemiAuto-8</td>\n",
       "      <td>2WD</td>\n",
       "      <td>Gasoline/Electricity</td>\n",
       "      <td>T3B125</td>\n",
       "      <td>JBMXV02.0H48</td>\n",
       "      <td>small car</td>\n",
       "      <td>3</td>\n",
       "      <td>28/66</td>\n",
       "      <td>34/78</td>\n",
       "      <td>30/71</td>\n",
       "      <td>10</td>\n",
       "      <td>Yes</td>\n",
       "    </tr>\n",
       "    <tr>\n",
       "      <th>1489</th>\n",
       "      <td>BMW 530e</td>\n",
       "      <td>2.0</td>\n",
       "      <td>4</td>\n",
       "      <td>SemiAuto-8</td>\n",
       "      <td>2WD</td>\n",
       "      <td>Gasoline/Electricity</td>\n",
       "      <td>L3SULEV30</td>\n",
       "      <td>JBMXV02.0H30</td>\n",
       "      <td>small car</td>\n",
       "      <td>7</td>\n",
       "      <td>27/70</td>\n",
       "      <td>31/75</td>\n",
       "      <td>29/72</td>\n",
       "      <td>10</td>\n",
       "      <td>Elite</td>\n",
       "    </tr>\n",
       "    <tr>\n",
       "      <th>1490</th>\n",
       "      <td>BMW 530e</td>\n",
       "      <td>2.0</td>\n",
       "      <td>4</td>\n",
       "      <td>SemiAuto-8</td>\n",
       "      <td>2WD</td>\n",
       "      <td>Gasoline/Electricity</td>\n",
       "      <td>T3B30</td>\n",
       "      <td>JBMXV02.0H30</td>\n",
       "      <td>small car</td>\n",
       "      <td>7</td>\n",
       "      <td>27/70</td>\n",
       "      <td>31/75</td>\n",
       "      <td>29/72</td>\n",
       "      <td>10</td>\n",
       "      <td>Elite</td>\n",
       "    </tr>\n",
       "    <tr>\n",
       "      <th>1491</th>\n",
       "      <td>BMW 530e</td>\n",
       "      <td>2.0</td>\n",
       "      <td>4</td>\n",
       "      <td>SemiAuto-8</td>\n",
       "      <td>4WD</td>\n",
       "      <td>Gasoline/Electricity</td>\n",
       "      <td>L3SULEV30</td>\n",
       "      <td>JBMXV02.0H30</td>\n",
       "      <td>small car</td>\n",
       "      <td>7</td>\n",
       "      <td>27/66</td>\n",
       "      <td>31/68</td>\n",
       "      <td>28/67</td>\n",
       "      <td>10</td>\n",
       "      <td>Elite</td>\n",
       "    </tr>\n",
       "  </tbody>\n",
       "</table>\n",
       "</div>"
      ],
      "text/plain": [
       "         Model  Displ  Cyl       Trans Drive                  Fuel       Stnd  \\\n",
       "1487  BMW 330e    2.0    4  SemiAuto-8   2WD  Gasoline/Electricity  L3ULEV125   \n",
       "1488  BMW 330e    2.0    4  SemiAuto-8   2WD  Gasoline/Electricity     T3B125   \n",
       "1489  BMW 530e    2.0    4  SemiAuto-8   2WD  Gasoline/Electricity  L3SULEV30   \n",
       "1490  BMW 530e    2.0    4  SemiAuto-8   2WD  Gasoline/Electricity      T3B30   \n",
       "1491  BMW 530e    2.0    4  SemiAuto-8   4WD  Gasoline/Electricity  L3SULEV30   \n",
       "\n",
       "      Underhood_ID  Veh_Class  Air_Pollution_Score City_MPG Hwy_MPG Cmb_MPG  \\\n",
       "1487  JBMXV02.0H48  small car                    3    28/66   34/78   30/71   \n",
       "1488  JBMXV02.0H48  small car                    3    28/66   34/78   30/71   \n",
       "1489  JBMXV02.0H30  small car                    7    27/70   31/75   29/72   \n",
       "1490  JBMXV02.0H30  small car                    7    27/70   31/75   29/72   \n",
       "1491  JBMXV02.0H30  small car                    7    27/66   31/68   28/67   \n",
       "\n",
       "      Greenhouse_Gas_Score SmartWay  \n",
       "1487                    10      Yes  \n",
       "1488                    10      Yes  \n",
       "1489                    10    Elite  \n",
       "1490                    10    Elite  \n",
       "1491                    10    Elite  "
      ]
     },
     "execution_count": 70,
     "metadata": {},
     "output_type": "execute_result"
    }
   ],
   "source": [
    "hybrid_18 = df_18[df_18['Fuel'].str.contains('/')]\n",
    "hybrid_18.head()"
   ]
  },
  {
   "cell_type": "code",
   "execution_count": 71,
   "metadata": {},
   "outputs": [],
   "source": [
    "df1 = hybrid_18.copy()\n",
    "df2 = hybrid_18.copy()"
   ]
  },
  {
   "cell_type": "code",
   "execution_count": 72,
   "metadata": {},
   "outputs": [],
   "source": [
    "columns_with_slashes = ['Fuel', 'City_MPG', 'Hwy_MPG', 'Cmb_MPG']\n",
    "\n",
    "for c in columns_with_slashes:\n",
    "    df1[c] = df1[c].apply(lambda s:s.split('/')[0])\n",
    "    df2[c] = df2[c].apply(lambda s:s.split('/')[1])"
   ]
  },
  {
   "cell_type": "code",
   "execution_count": 73,
   "metadata": {},
   "outputs": [],
   "source": [
    "df_18.drop(hybrid_18.index, inplace=True)\n",
    "df_18 = df_18.append(df1.append(df2), ignore_index=True)"
   ]
  },
  {
   "cell_type": "code",
   "execution_count": 74,
   "metadata": {},
   "outputs": [
    {
     "data": {
      "text/html": [
       "<div>\n",
       "<style scoped>\n",
       "    .dataframe tbody tr th:only-of-type {\n",
       "        vertical-align: middle;\n",
       "    }\n",
       "\n",
       "    .dataframe tbody tr th {\n",
       "        vertical-align: top;\n",
       "    }\n",
       "\n",
       "    .dataframe thead th {\n",
       "        text-align: right;\n",
       "    }\n",
       "</style>\n",
       "<table border=\"1\" class=\"dataframe\">\n",
       "  <thead>\n",
       "    <tr style=\"text-align: right;\">\n",
       "      <th></th>\n",
       "      <th>Model</th>\n",
       "      <th>Displ</th>\n",
       "      <th>Cyl</th>\n",
       "      <th>Trans</th>\n",
       "      <th>Drive</th>\n",
       "      <th>Fuel</th>\n",
       "      <th>Stnd</th>\n",
       "      <th>Underhood_ID</th>\n",
       "      <th>Veh_Class</th>\n",
       "      <th>Air_Pollution_Score</th>\n",
       "      <th>City_MPG</th>\n",
       "      <th>Hwy_MPG</th>\n",
       "      <th>Cmb_MPG</th>\n",
       "      <th>Greenhouse_Gas_Score</th>\n",
       "      <th>SmartWay</th>\n",
       "    </tr>\n",
       "  </thead>\n",
       "  <tbody>\n",
       "  </tbody>\n",
       "</table>\n",
       "</div>"
      ],
      "text/plain": [
       "Empty DataFrame\n",
       "Columns: [Model, Displ, Cyl, Trans, Drive, Fuel, Stnd, Underhood_ID, Veh_Class, Air_Pollution_Score, City_MPG, Hwy_MPG, Cmb_MPG, Greenhouse_Gas_Score, SmartWay]\n",
       "Index: []"
      ]
     },
     "execution_count": 74,
     "metadata": {},
     "output_type": "execute_result"
    }
   ],
   "source": [
    "df_18[df_18.Fuel.str.contains('/')]"
   ]
  },
  {
   "cell_type": "markdown",
   "metadata": {},
   "source": [
    "## Gas/Gasoline?"
   ]
  },
  {
   "cell_type": "code",
   "execution_count": 76,
   "metadata": {
    "scrolled": true
   },
   "outputs": [
    {
     "data": {
      "text/plain": [
       "Gasoline    2099\n",
       "ethanol       67\n",
       "gas           66\n",
       "diesel         7\n",
       "CNG            2\n",
       "Name: Fuel, dtype: int64"
      ]
     },
     "execution_count": 76,
     "metadata": {},
     "output_type": "execute_result"
    }
   ],
   "source": [
    "df_08.Fuel.value_counts()"
   ]
  },
  {
   "cell_type": "code",
   "execution_count": 77,
   "metadata": {
    "scrolled": true
   },
   "outputs": [
    {
     "data": {
      "text/plain": [
       "Gasoline       1497\n",
       "Ethanol          98\n",
       "Gas              98\n",
       "Electricity      48\n",
       "Diesel           38\n",
       "Name: Fuel, dtype: int64"
      ]
     },
     "execution_count": 77,
     "metadata": {},
     "output_type": "execute_result"
    }
   ],
   "source": [
    "df_18.Fuel.value_counts()"
   ]
  },
  {
   "cell_type": "code",
   "execution_count": 78,
   "metadata": {},
   "outputs": [],
   "source": [
    "gas_type_08 = df_08.query('Fuel == \"Gas\"').copy()\n",
    "gas_type_08.replace(to_replace='Gas', value='Gasoline', inplace=True)\n",
    "df_08.drop(gas_type_08.index, inplace=True)\n",
    "df_08 = df_08.append(gas_type_08, ignore_index=True)"
   ]
  },
  {
   "cell_type": "code",
   "execution_count": 79,
   "metadata": {},
   "outputs": [],
   "source": [
    "gas_type_18 = df_18.query('Fuel == \"Gas\"').copy()\n",
    "gas_type_18.replace(to_replace='Gas', value='Gasoline', inplace=True)\n",
    "df_18.drop(gas_type_18.index, inplace=True)\n",
    "df_18 = df_18.append(gas_type_18, ignore_index=True)"
   ]
  },
  {
   "cell_type": "code",
   "execution_count": 81,
   "metadata": {
    "scrolled": true
   },
   "outputs": [
    {
     "data": {
      "text/plain": [
       "Gasoline    2099\n",
       "ethanol       67\n",
       "gas           66\n",
       "diesel         7\n",
       "CNG            2\n",
       "Name: Fuel, dtype: int64"
      ]
     },
     "execution_count": 81,
     "metadata": {},
     "output_type": "execute_result"
    }
   ],
   "source": [
    "df_08.Fuel.value_counts()"
   ]
  },
  {
   "cell_type": "code",
   "execution_count": 82,
   "metadata": {},
   "outputs": [
    {
     "data": {
      "text/plain": [
       "Gasoline       1595\n",
       "Ethanol          98\n",
       "Electricity      48\n",
       "Diesel           38\n",
       "Name: Fuel, dtype: int64"
      ]
     },
     "execution_count": 82,
     "metadata": {},
     "output_type": "execute_result"
    }
   ],
   "source": [
    "df_18.Fuel.value_counts()"
   ]
  },
  {
   "cell_type": "markdown",
   "metadata": {},
   "source": [
    "## Fix `*_mpg, greenhouse_gas_score and air_pollution_score` datatypes"
   ]
  },
  {
   "cell_type": "code",
   "execution_count": 85,
   "metadata": {},
   "outputs": [],
   "source": [
    "df_08.City_MPG = df_08.City_MPG.astype(int)\n",
    "df_08.Hwy_MPG = df_08.Hwy_MPG.astype(int)\n",
    "df_08.Cmb_MPG = df_08.Cmb_MPG.astype(int)\n",
    "\n",
    "df_18.City_MPG = df_18.City_MPG.astype(int)\n",
    "df_18.Hwy_MPG = df_18.Hwy_MPG.astype(int)\n",
    "df_18.Cmb_MPG = df_18.Cmb_MPG.astype(int)"
   ]
  },
  {
   "cell_type": "markdown",
   "metadata": {},
   "source": [
    "## Fix `greenhouse_gas_score, air_pollution_score` datatypes"
   ]
  },
  {
   "cell_type": "code",
   "execution_count": 88,
   "metadata": {},
   "outputs": [],
   "source": [
    "df_08.Air_Pollution_Score = df_08.Air_Pollution_Score.astype(float)\n",
    "df_18.Air_Pollution_Score = df_08.Air_Pollution_Score.astype(float)\n",
    "df_08.Greenhouse_Gas_Score = df_08.Greenhouse_Gas_Score.astype(int)"
   ]
  },
  {
   "cell_type": "code",
   "execution_count": 90,
   "metadata": {},
   "outputs": [
    {
     "data": {
      "text/plain": [
       "Model                    object\n",
       "Displ                   float64\n",
       "Cyl                       int64\n",
       "Trans                    object\n",
       "Drive                    object\n",
       "Fuel                     object\n",
       "Stnd                     object\n",
       "Underhood_ID             object\n",
       "Veh_Class                object\n",
       "Air_Pollution_Score     float64\n",
       "City_MPG                  int32\n",
       "Hwy_MPG                   int32\n",
       "Cmb_MPG                   int32\n",
       "Greenhouse_Gas_Score      int32\n",
       "SmartWay                 object\n",
       "dtype: object"
      ]
     },
     "execution_count": 90,
     "metadata": {},
     "output_type": "execute_result"
    }
   ],
   "source": [
    "df_08.dtypes"
   ]
  },
  {
   "cell_type": "code",
   "execution_count": 89,
   "metadata": {
    "scrolled": true
   },
   "outputs": [
    {
     "data": {
      "text/plain": [
       "Model                    object\n",
       "Displ                   float64\n",
       "Cyl                       int64\n",
       "Trans                    object\n",
       "Drive                    object\n",
       "Fuel                     object\n",
       "Stnd                     object\n",
       "Underhood_ID             object\n",
       "Veh_Class                object\n",
       "Air_Pollution_Score     float64\n",
       "City_MPG                  int32\n",
       "Hwy_MPG                   int32\n",
       "Cmb_MPG                   int32\n",
       "Greenhouse_Gas_Score      int64\n",
       "SmartWay                 object\n",
       "dtype: object"
      ]
     },
     "execution_count": 89,
     "metadata": {},
     "output_type": "execute_result"
    }
   ],
   "source": [
    "df_18.dtypes"
   ]
  },
  {
   "cell_type": "code",
   "execution_count": 91,
   "metadata": {},
   "outputs": [
    {
     "data": {
      "text/plain": [
       "False"
      ]
     },
     "execution_count": 91,
     "metadata": {},
     "output_type": "execute_result"
    }
   ],
   "source": [
    "(df_18.dtypes == df_08.dtypes).all()"
   ]
  },
  {
   "cell_type": "markdown",
   "metadata": {},
   "source": [
    "# CHECKPOINT: SAVE EVERYTHING"
   ]
  },
  {
   "cell_type": "code",
   "execution_count": 92,
   "metadata": {},
   "outputs": [],
   "source": [
    "df_08.to_csv('df_08_v5.csv', index=False)\n",
    "df_18.to_csv('df_18_v5.csv', index=False)"
   ]
  },
  {
   "cell_type": "code",
   "execution_count": 93,
   "metadata": {},
   "outputs": [],
   "source": [
    "df_08 = pd.read_csv('df_08_v5.csv')\n",
    "df_18 = pd.read_csv('df_18_v5.csv')"
   ]
  },
  {
   "cell_type": "markdown",
   "metadata": {},
   "source": [
    "# Create visuals of findings"
   ]
  },
  {
   "cell_type": "code",
   "execution_count": 95,
   "metadata": {
    "scrolled": true
   },
   "outputs": [
    {
     "data": {
      "image/png": "[encoded data removed]",
      "text/plain": [
       "<Figure size 432x288 with 1 Axes>"
      ]
     },
     "metadata": {
      "needs_background": "light"
     },
     "output_type": "display_data"
    }
   ],
   "source": [
    "df_08.Greenhouse_Gas_Score.hist()\n",
    "plt.show();"
   ]
  },
  {
   "cell_type": "code",
   "execution_count": 96,
   "metadata": {
    "scrolled": false
   },
   "outputs": [
    {
     "data": {
      "image/png": "[encoded data removed]",
      "text/plain": [
       "<Figure size 432x288 with 1 Axes>"
      ]
     },
     "metadata": {
      "needs_background": "light"
     },
     "output_type": "display_data"
    }
   ],
   "source": [
    "df_18.Greenhouse_Gas_Score.hist()\n",
    "plt.show();"
   ]
  },
  {
   "cell_type": "code",
   "execution_count": 97,
   "metadata": {
    "scrolled": true
   },
   "outputs": [
    {
     "data": {
      "image/png": "[encoded data removed]",
      "text/plain": [
       "<Figure size 432x288 with 1 Axes>"
      ]
     },
     "metadata": {
      "needs_background": "light"
     },
     "output_type": "display_data"
    },
    {
     "data": {
      "image/png": "[encoded data removed]",
      "text/plain": [
       "<Figure size 432x288 with 1 Axes>"
      ]
     },
     "metadata": {
      "needs_background": "light"
     },
     "output_type": "display_data"
    },
    {
     "data": {
      "image/png": "[encoded data removed]",
      "text/plain": [
       "<Figure size 432x288 with 1 Axes>"
      ]
     },
     "metadata": {
      "needs_background": "light"
     },
     "output_type": "display_data"
    },
    {
     "data": {
      "image/png": "[encoded data removed]",
      "text/plain": [
       "<Figure size 432x288 with 1 Axes>"
      ]
     },
     "metadata": {
      "needs_background": "light"
     },
     "output_type": "display_data"
    },
    {
     "data": {
      "image/png": "[encoded data removed]",
      "text/plain": [
       "<Figure size 432x288 with 1 Axes>"
      ]
     },
     "metadata": {
      "needs_background": "light"
     },
     "output_type": "display_data"
    }
   ],
   "source": [
    "plt.figure()\n",
    "plt.hist([df_08.Greenhouse_Gas_Score, df_18.Greenhouse_Gas_Score])\n",
    "plt.legend(['2008', '2018']);\n",
    "\n",
    "plt.figure()\n",
    "plt.hist([df_08.Air_Pollution_Score, df_18.Air_Pollution_Score])\n",
    "plt.legend(['2008', '2018']);\n",
    "\n",
    "plt.figure()\n",
    "plt.hist([df_08.City_MPG, df_18.City_MPG])\n",
    "plt.legend(['2008', '2018']);\n",
    "\n",
    "plt.figure()\n",
    "plt.hist([df_08.Hwy_MPG, df_18.Hwy_MPG])\n",
    "plt.legend(['2008', '2018']);\n",
    "\n",
    "plt.figure()\n",
    "plt.hist([df_08.Cmb_MPG, df_18.Cmb_MPG])\n",
    "plt.legend(['2008', '2018']);"
   ]
  },
  {
   "cell_type": "code",
   "execution_count": 99,
   "metadata": {},
   "outputs": [
    {
     "data": {
      "image/png": "[encoded data removed]",
      "text/plain": [
       "<Figure size 432x288 with 1 Axes>"
      ]
     },
     "metadata": {
      "needs_background": "light"
     },
     "output_type": "display_data"
    }
   ],
   "source": [
    "plt.hist(df_08.Air_Pollution_Score);"
   ]
  },
  {
   "cell_type": "code",
   "execution_count": 98,
   "metadata": {
    "scrolled": true
   },
   "outputs": [
    {
     "data": {
      "image/png": "[encoded data removed]",
      "text/plain": [
       "<Figure size 432x288 with 1 Axes>"
      ]
     },
     "metadata": {
      "needs_background": "light"
     },
     "output_type": "display_data"
    }
   ],
   "source": [
    "plt.hist(df_18.Air_Pollution_Score);"
   ]
  },
  {
   "cell_type": "code",
   "execution_count": 100,
   "metadata": {},
   "outputs": [
    {
     "data": {
      "image/png": "[encoded data removed]",
      "text/plain": [
       "<Figure size 432x288 with 1 Axes>"
      ]
     },
     "metadata": {
      "needs_background": "light"
     },
     "output_type": "display_data"
    }
   ],
   "source": [
    "plt.hist(df_08.City_MPG);"
   ]
  },
  {
   "cell_type": "code",
   "execution_count": 101,
   "metadata": {},
   "outputs": [
    {
     "data": {
      "image/png": "[encoded data removed]",
      "text/plain": [
       "<Figure size 432x288 with 1 Axes>"
      ]
     },
     "metadata": {
      "needs_background": "light"
     },
     "output_type": "display_data"
    }
   ],
   "source": [
    "plt.hist(df_18.City_MPG);"
   ]
  },
  {
   "cell_type": "code",
   "execution_count": null,
   "metadata": {},
   "outputs": [],
   "source": [
    "# Scatter plots are used to find the correlation of two or more variables. Find thing that correlate with \n",
    "# combined MPG only.\n",
    "\n",
    "# What's the correlation between combined MPG and displacement?\n",
    "\n",
    "# What's the correlation between combined MPG and the number of cylinders?\n",
    "\n",
    "# What's the correlation between combined MPG and the air pollution score?\n",
    "\n",
    "# What's the correlation between combined MPG and greenhouse gas score?"
   ]
  },
  {
   "cell_type": "code",
   "execution_count": 104,
   "metadata": {
    "scrolled": true
   },
   "outputs": [
    {
     "data": {
      "image/png": "[encoded data removed]",
      "text/plain": [
       "<Figure size 648x432 with 1 Axes>"
      ]
     },
     "metadata": {
      "needs_background": "light"
     },
     "output_type": "display_data"
    }
   ],
   "source": [
    "df_18.plot(kind='scatter', x='Cmb_MPG', y='Displ', figsize=(9, 6))\n",
    "plt.title('Combined MPG based on Displacement (2018)')\n",
    "plt.xlabel('Combined MPG')\n",
    "plt.ylabel('Displacement');"
   ]
  },
  {
   "cell_type": "code",
   "execution_count": 105,
   "metadata": {
    "scrolled": true
   },
   "outputs": [
    {
     "data": {
      "image/png": "[encoded data removed]",
      "text/plain": [
       "<Figure size 648x432 with 1 Axes>"
      ]
     },
     "metadata": {
      "needs_background": "light"
     },
     "output_type": "display_data"
    }
   ],
   "source": [
    "df_08.plot(kind='scatter', x='Cmb_MPG', y='Cyl', figsize=(9, 6))\n",
    "plt.title('Combined MPG based on Cylinders (2008)')\n",
    "plt.xlabel('Combined MPG')\n",
    "plt.ylabel('Cylinders');"
   ]
  },
  {
   "cell_type": "code",
   "execution_count": 107,
   "metadata": {
    "scrolled": true
   },
   "outputs": [
    {
     "data": {
      "image/png": "[encoded data removed]",
      "text/plain": [
       "<Figure size 648x432 with 1 Axes>"
      ]
     },
     "metadata": {
      "needs_background": "light"
     },
     "output_type": "display_data"
    }
   ],
   "source": [
    "df_18.plot(kind='scatter', x='Cmb_MPG', y='Cyl', figsize=(9, 6))\n",
    "plt.title('Combined MPG based on Cylinders (2018)')\n",
    "plt.xlabel('Combined MPG')\n",
    "plt.ylabel('Cylinders');"
   ]
  },
  {
   "cell_type": "code",
   "execution_count": 109,
   "metadata": {},
   "outputs": [
    {
     "data": {
      "image/png": "[encoded data removed]",
      "text/plain": [
       "<Figure size 432x288 with 1 Axes>"
      ]
     },
     "metadata": {
      "needs_background": "light"
     },
     "output_type": "display_data"
    }
   ],
   "source": [
    "df_18.plot(kind='scatter', x='Cmb_MPG', y=\"Cyl\")\n",
    "plt.xlabel('Combined MPG')\n",
    "plt.ylabel('Cylinders')\n",
    "plt.title('Greenhouse Gas Score (2008)');"
   ]
  },
  {
   "cell_type": "markdown",
   "metadata": {},
   "source": [
    "## How many more car models use alternative fuels in 2018 as opposed to 2008?\n",
    "* ### May need to Google the answer to find out which fuel types are considered 'alternative'"
   ]
  },
  {
   "cell_type": "code",
   "execution_count": 110,
   "metadata": {
    "scrolled": true
   },
   "outputs": [
    {
     "data": {
      "text/plain": [
       "Gasoline    2099\n",
       "ethanol       67\n",
       "gas           66\n",
       "diesel         7\n",
       "CNG            2\n",
       "Name: Fuel, dtype: int64"
      ]
     },
     "execution_count": 110,
     "metadata": {},
     "output_type": "execute_result"
    }
   ],
   "source": [
    "df_08.Fuel.value_counts()"
   ]
  },
  {
   "cell_type": "code",
   "execution_count": 111,
   "metadata": {
    "scrolled": true
   },
   "outputs": [
    {
     "data": {
      "text/plain": [
       "Gasoline       1595\n",
       "Ethanol          98\n",
       "Electricity      48\n",
       "Diesel           38\n",
       "Name: Fuel, dtype: int64"
      ]
     },
     "execution_count": 111,
     "metadata": {},
     "output_type": "execute_result"
    }
   ],
   "source": [
    "df_18.Fuel.value_counts()"
   ]
  },
  {
   "cell_type": "code",
   "execution_count": 112,
   "metadata": {
    "scrolled": true
   },
   "outputs": [
    {
     "data": {
      "text/html": [
       "<div>\n",
       "<style scoped>\n",
       "    .dataframe tbody tr th:only-of-type {\n",
       "        vertical-align: middle;\n",
       "    }\n",
       "\n",
       "    .dataframe tbody tr th {\n",
       "        vertical-align: top;\n",
       "    }\n",
       "\n",
       "    .dataframe thead th {\n",
       "        text-align: right;\n",
       "    }\n",
       "</style>\n",
       "<table border=\"1\" class=\"dataframe\">\n",
       "  <thead>\n",
       "    <tr style=\"text-align: right;\">\n",
       "      <th></th>\n",
       "      <th>Model</th>\n",
       "      <th>Displ</th>\n",
       "      <th>Cyl</th>\n",
       "      <th>Trans</th>\n",
       "      <th>Drive</th>\n",
       "      <th>Fuel</th>\n",
       "      <th>Stnd</th>\n",
       "      <th>Underhood_ID</th>\n",
       "      <th>Veh_Class</th>\n",
       "      <th>Air_Pollution_Score</th>\n",
       "      <th>City_MPG</th>\n",
       "      <th>Hwy_MPG</th>\n",
       "      <th>Cmb_MPG</th>\n",
       "      <th>Greenhouse_Gas_Score</th>\n",
       "      <th>SmartWay</th>\n",
       "    </tr>\n",
       "  </thead>\n",
       "  <tbody>\n",
       "    <tr>\n",
       "      <th>871</th>\n",
       "      <td>HONDA Civic</td>\n",
       "      <td>1.8</td>\n",
       "      <td>4</td>\n",
       "      <td>Auto-L5</td>\n",
       "      <td>2WD</td>\n",
       "      <td>CNG</td>\n",
       "      <td>S2</td>\n",
       "      <td>8HNXV01.8XW3</td>\n",
       "      <td>small car</td>\n",
       "      <td>9.5</td>\n",
       "      <td>24</td>\n",
       "      <td>36</td>\n",
       "      <td>28</td>\n",
       "      <td>9</td>\n",
       "      <td>yes</td>\n",
       "    </tr>\n",
       "    <tr>\n",
       "      <th>872</th>\n",
       "      <td>HONDA Civic</td>\n",
       "      <td>1.8</td>\n",
       "      <td>4</td>\n",
       "      <td>Auto-L5</td>\n",
       "      <td>2WD</td>\n",
       "      <td>CNG</td>\n",
       "      <td>B2</td>\n",
       "      <td>8HNXV01.8XW3</td>\n",
       "      <td>small car</td>\n",
       "      <td>9.0</td>\n",
       "      <td>24</td>\n",
       "      <td>36</td>\n",
       "      <td>28</td>\n",
       "      <td>9</td>\n",
       "      <td>yes</td>\n",
       "    </tr>\n",
       "  </tbody>\n",
       "</table>\n",
       "</div>"
      ],
      "text/plain": [
       "           Model  Displ  Cyl    Trans Drive Fuel Stnd  Underhood_ID  \\\n",
       "871  HONDA Civic    1.8    4  Auto-L5   2WD  CNG   S2  8HNXV01.8XW3   \n",
       "872  HONDA Civic    1.8    4  Auto-L5   2WD  CNG   B2  8HNXV01.8XW3   \n",
       "\n",
       "     Veh_Class  Air_Pollution_Score  City_MPG  Hwy_MPG  Cmb_MPG  \\\n",
       "871  small car                  9.5        24       36       28   \n",
       "872  small car                  9.0        24       36       28   \n",
       "\n",
       "     Greenhouse_Gas_Score SmartWay  \n",
       "871                     9      yes  \n",
       "872                     9      yes  "
      ]
     },
     "execution_count": 112,
     "metadata": {},
     "output_type": "execute_result"
    }
   ],
   "source": [
    "alt_fuels_08 = df_08.query('Fuel in [\"CNG\", \"Ethanol\"]')\n",
    "alt_fuels_08"
   ]
  },
  {
   "cell_type": "code",
   "execution_count": 114,
   "metadata": {
    "scrolled": true
   },
   "outputs": [
    {
     "data": {
      "text/html": [
       "<div>\n",
       "<style scoped>\n",
       "    .dataframe tbody tr th:only-of-type {\n",
       "        vertical-align: middle;\n",
       "    }\n",
       "\n",
       "    .dataframe tbody tr th {\n",
       "        vertical-align: top;\n",
       "    }\n",
       "\n",
       "    .dataframe thead th {\n",
       "        text-align: right;\n",
       "    }\n",
       "</style>\n",
       "<table border=\"1\" class=\"dataframe\">\n",
       "  <thead>\n",
       "    <tr style=\"text-align: right;\">\n",
       "      <th></th>\n",
       "      <th>Model</th>\n",
       "      <th>Displ</th>\n",
       "      <th>Cyl</th>\n",
       "      <th>Trans</th>\n",
       "      <th>Drive</th>\n",
       "      <th>Fuel</th>\n",
       "      <th>Stnd</th>\n",
       "      <th>Underhood_ID</th>\n",
       "      <th>Veh_Class</th>\n",
       "      <th>Air_Pollution_Score</th>\n",
       "      <th>City_MPG</th>\n",
       "      <th>Hwy_MPG</th>\n",
       "      <th>Cmb_MPG</th>\n",
       "      <th>Greenhouse_Gas_Score</th>\n",
       "      <th>SmartWay</th>\n",
       "    </tr>\n",
       "  </thead>\n",
       "  <tbody>\n",
       "    <tr>\n",
       "      <th>1495</th>\n",
       "      <td>CHEVROLET Impala</td>\n",
       "      <td>3.6</td>\n",
       "      <td>6</td>\n",
       "      <td>SemiAuto-6</td>\n",
       "      <td>2WD</td>\n",
       "      <td>Ethanol</td>\n",
       "      <td>L3ULEV70</td>\n",
       "      <td>JGMXV03.6166</td>\n",
       "      <td>large car</td>\n",
       "      <td>6.0</td>\n",
       "      <td>14</td>\n",
       "      <td>20</td>\n",
       "      <td>16</td>\n",
       "      <td>4</td>\n",
       "      <td>No</td>\n",
       "    </tr>\n",
       "    <tr>\n",
       "      <th>1496</th>\n",
       "      <td>CHEVROLET Impala</td>\n",
       "      <td>3.6</td>\n",
       "      <td>6</td>\n",
       "      <td>SemiAuto-6</td>\n",
       "      <td>2WD</td>\n",
       "      <td>Ethanol</td>\n",
       "      <td>T3B70</td>\n",
       "      <td>JGMXV03.6166</td>\n",
       "      <td>large car</td>\n",
       "      <td>6.0</td>\n",
       "      <td>14</td>\n",
       "      <td>20</td>\n",
       "      <td>16</td>\n",
       "      <td>4</td>\n",
       "      <td>No</td>\n",
       "    </tr>\n",
       "    <tr>\n",
       "      <th>1497</th>\n",
       "      <td>CHEVROLET Silverado 15</td>\n",
       "      <td>4.3</td>\n",
       "      <td>6</td>\n",
       "      <td>Auto-6</td>\n",
       "      <td>2WD</td>\n",
       "      <td>Ethanol</td>\n",
       "      <td>L3ULEV70</td>\n",
       "      <td>JGMXT04.3187</td>\n",
       "      <td>pickup</td>\n",
       "      <td>7.0</td>\n",
       "      <td>12</td>\n",
       "      <td>16</td>\n",
       "      <td>14</td>\n",
       "      <td>4</td>\n",
       "      <td>No</td>\n",
       "    </tr>\n",
       "    <tr>\n",
       "      <th>1498</th>\n",
       "      <td>CHEVROLET Silverado 15</td>\n",
       "      <td>4.3</td>\n",
       "      <td>6</td>\n",
       "      <td>Auto-6</td>\n",
       "      <td>2WD</td>\n",
       "      <td>Ethanol</td>\n",
       "      <td>T3B70</td>\n",
       "      <td>JGMXT04.3187</td>\n",
       "      <td>pickup</td>\n",
       "      <td>6.0</td>\n",
       "      <td>12</td>\n",
       "      <td>16</td>\n",
       "      <td>14</td>\n",
       "      <td>4</td>\n",
       "      <td>No</td>\n",
       "    </tr>\n",
       "    <tr>\n",
       "      <th>1499</th>\n",
       "      <td>CHEVROLET Silverado 15</td>\n",
       "      <td>4.3</td>\n",
       "      <td>6</td>\n",
       "      <td>Auto-6</td>\n",
       "      <td>4WD</td>\n",
       "      <td>Ethanol</td>\n",
       "      <td>L3ULEV70</td>\n",
       "      <td>JGMXT04.3187</td>\n",
       "      <td>pickup</td>\n",
       "      <td>7.0</td>\n",
       "      <td>12</td>\n",
       "      <td>15</td>\n",
       "      <td>13</td>\n",
       "      <td>3</td>\n",
       "      <td>No</td>\n",
       "    </tr>\n",
       "    <tr>\n",
       "      <th>...</th>\n",
       "      <td>...</td>\n",
       "      <td>...</td>\n",
       "      <td>...</td>\n",
       "      <td>...</td>\n",
       "      <td>...</td>\n",
       "      <td>...</td>\n",
       "      <td>...</td>\n",
       "      <td>...</td>\n",
       "      <td>...</td>\n",
       "      <td>...</td>\n",
       "      <td>...</td>\n",
       "      <td>...</td>\n",
       "      <td>...</td>\n",
       "      <td>...</td>\n",
       "      <td>...</td>\n",
       "    </tr>\n",
       "    <tr>\n",
       "      <th>1676</th>\n",
       "      <td>VOLVO S90</td>\n",
       "      <td>2.0</td>\n",
       "      <td>4</td>\n",
       "      <td>SemiAuto-8</td>\n",
       "      <td>4WD</td>\n",
       "      <td>Electricity</td>\n",
       "      <td>T3B30</td>\n",
       "      <td>JVVXV02.0P30</td>\n",
       "      <td>midsize car</td>\n",
       "      <td>6.0</td>\n",
       "      <td>70</td>\n",
       "      <td>72</td>\n",
       "      <td>71</td>\n",
       "      <td>10</td>\n",
       "      <td>Elite</td>\n",
       "    </tr>\n",
       "    <tr>\n",
       "      <th>1677</th>\n",
       "      <td>VOLVO XC 60</td>\n",
       "      <td>2.0</td>\n",
       "      <td>4</td>\n",
       "      <td>SemiAuto-8</td>\n",
       "      <td>4WD</td>\n",
       "      <td>Electricity</td>\n",
       "      <td>L3SULEV30</td>\n",
       "      <td>JVVXJ02.0P30</td>\n",
       "      <td>small SUV</td>\n",
       "      <td>6.0</td>\n",
       "      <td>60</td>\n",
       "      <td>58</td>\n",
       "      <td>59</td>\n",
       "      <td>10</td>\n",
       "      <td>Elite</td>\n",
       "    </tr>\n",
       "    <tr>\n",
       "      <th>1678</th>\n",
       "      <td>VOLVO XC 60</td>\n",
       "      <td>2.0</td>\n",
       "      <td>4</td>\n",
       "      <td>SemiAuto-8</td>\n",
       "      <td>4WD</td>\n",
       "      <td>Electricity</td>\n",
       "      <td>T3B30</td>\n",
       "      <td>JVVXJ02.0P30</td>\n",
       "      <td>small SUV</td>\n",
       "      <td>6.0</td>\n",
       "      <td>60</td>\n",
       "      <td>58</td>\n",
       "      <td>59</td>\n",
       "      <td>10</td>\n",
       "      <td>Elite</td>\n",
       "    </tr>\n",
       "    <tr>\n",
       "      <th>1679</th>\n",
       "      <td>VOLVO XC 90</td>\n",
       "      <td>2.0</td>\n",
       "      <td>4</td>\n",
       "      <td>SemiAuto-8</td>\n",
       "      <td>4WD</td>\n",
       "      <td>Electricity</td>\n",
       "      <td>L3SULEV30</td>\n",
       "      <td>JVVXJ02.0P30</td>\n",
       "      <td>standard SUV</td>\n",
       "      <td>6.0</td>\n",
       "      <td>63</td>\n",
       "      <td>61</td>\n",
       "      <td>62</td>\n",
       "      <td>10</td>\n",
       "      <td>Elite</td>\n",
       "    </tr>\n",
       "    <tr>\n",
       "      <th>1680</th>\n",
       "      <td>VOLVO XC 90</td>\n",
       "      <td>2.0</td>\n",
       "      <td>4</td>\n",
       "      <td>SemiAuto-8</td>\n",
       "      <td>4WD</td>\n",
       "      <td>Electricity</td>\n",
       "      <td>T3B30</td>\n",
       "      <td>JVVXJ02.0P30</td>\n",
       "      <td>standard SUV</td>\n",
       "      <td>6.0</td>\n",
       "      <td>63</td>\n",
       "      <td>61</td>\n",
       "      <td>62</td>\n",
       "      <td>10</td>\n",
       "      <td>Elite</td>\n",
       "    </tr>\n",
       "  </tbody>\n",
       "</table>\n",
       "<p>146 rows × 15 columns</p>\n",
       "</div>"
      ],
      "text/plain": [
       "                       Model  Displ  Cyl       Trans Drive         Fuel  \\\n",
       "1495        CHEVROLET Impala    3.6    6  SemiAuto-6   2WD      Ethanol   \n",
       "1496        CHEVROLET Impala    3.6    6  SemiAuto-6   2WD      Ethanol   \n",
       "1497  CHEVROLET Silverado 15    4.3    6      Auto-6   2WD      Ethanol   \n",
       "1498  CHEVROLET Silverado 15    4.3    6      Auto-6   2WD      Ethanol   \n",
       "1499  CHEVROLET Silverado 15    4.3    6      Auto-6   4WD      Ethanol   \n",
       "...                      ...    ...  ...         ...   ...          ...   \n",
       "1676               VOLVO S90    2.0    4  SemiAuto-8   4WD  Electricity   \n",
       "1677             VOLVO XC 60    2.0    4  SemiAuto-8   4WD  Electricity   \n",
       "1678             VOLVO XC 60    2.0    4  SemiAuto-8   4WD  Electricity   \n",
       "1679             VOLVO XC 90    2.0    4  SemiAuto-8   4WD  Electricity   \n",
       "1680             VOLVO XC 90    2.0    4  SemiAuto-8   4WD  Electricity   \n",
       "\n",
       "           Stnd  Underhood_ID     Veh_Class  Air_Pollution_Score  City_MPG  \\\n",
       "1495   L3ULEV70  JGMXV03.6166     large car                  6.0        14   \n",
       "1496      T3B70  JGMXV03.6166     large car                  6.0        14   \n",
       "1497   L3ULEV70  JGMXT04.3187        pickup                  7.0        12   \n",
       "1498      T3B70  JGMXT04.3187        pickup                  6.0        12   \n",
       "1499   L3ULEV70  JGMXT04.3187        pickup                  7.0        12   \n",
       "...         ...           ...           ...                  ...       ...   \n",
       "1676      T3B30  JVVXV02.0P30   midsize car                  6.0        70   \n",
       "1677  L3SULEV30  JVVXJ02.0P30     small SUV                  6.0        60   \n",
       "1678      T3B30  JVVXJ02.0P30     small SUV                  6.0        60   \n",
       "1679  L3SULEV30  JVVXJ02.0P30  standard SUV                  6.0        63   \n",
       "1680      T3B30  JVVXJ02.0P30  standard SUV                  6.0        63   \n",
       "\n",
       "      Hwy_MPG  Cmb_MPG  Greenhouse_Gas_Score SmartWay  \n",
       "1495       20       16                     4       No  \n",
       "1496       20       16                     4       No  \n",
       "1497       16       14                     4       No  \n",
       "1498       16       14                     4       No  \n",
       "1499       15       13                     3       No  \n",
       "...       ...      ...                   ...      ...  \n",
       "1676       72       71                    10    Elite  \n",
       "1677       58       59                    10    Elite  \n",
       "1678       58       59                    10    Elite  \n",
       "1679       61       62                    10    Elite  \n",
       "1680       61       62                    10    Elite  \n",
       "\n",
       "[146 rows x 15 columns]"
      ]
     },
     "execution_count": 114,
     "metadata": {},
     "output_type": "execute_result"
    }
   ],
   "source": [
    "alt_fuels_18 = df_18.query('Fuel in [\"Ethanol\", \"Electricity\"]')\n",
    "alt_fuels_18"
   ]
  },
  {
   "cell_type": "code",
   "execution_count": 118,
   "metadata": {},
   "outputs": [
    {
     "name": "stdout",
     "output_type": "stream",
     "text": [
      "There are 27 more models using alternative fuels in 2018 than in 2008.\n"
     ]
    },
    {
     "data": {
      "image/png": "[encoded data removed]",
      "text/plain": [
       "<Figure size 648x432 with 1 Axes>"
      ]
     },
     "metadata": {
      "needs_background": "light"
     },
     "output_type": "display_data"
    }
   ],
   "source": [
    "plt.subplots(figsize=(9, 6))\n",
    "plt.bar(['2008', '2018'], [alt_fuels_08.Model.nunique(), alt_fuels_18.Model.nunique()], color=['green', 'orange'])\n",
    "plt.xlabel('Year')\n",
    "plt.ylabel('No. of Models using Alternative Fuels')\n",
    "plt.title('No. of Models using Alternative Fuels by Year');\n",
    "\n",
    "print(f\"There are {alt_fuels_18.Model.nunique() - alt_fuels_08.Model.nunique()} more models using alternative fuels in 2018 than in 2008.\")"
   ]
  },
  {
   "cell_type": "code",
   "execution_count": null,
   "metadata": {},
   "outputs": [],
   "source": [
    "# Figure out a way to plot two different bins from two different datasets into one bar plot. You'll need this\n",
    "# skill for the following questions."
   ]
  },
  {
   "cell_type": "markdown",
   "metadata": {},
   "source": [
    "## How much has the average fuel economy improved since 2008?"
   ]
  },
  {
   "cell_type": "code",
   "execution_count": 120,
   "metadata": {},
   "outputs": [],
   "source": [
    "fe_08 = df_08.Cmb_MPG\n",
    "fe_18 = df_18.Cmb_MPG"
   ]
  },
  {
   "cell_type": "code",
   "execution_count": 121,
   "metadata": {},
   "outputs": [
    {
     "name": "stdout",
     "output_type": "stream",
     "text": [
      "There average fuel economy has improved by 5.1 MPG\n"
     ]
    },
    {
     "data": {
      "image/png": "[encoded data removed]",
      "text/plain": [
       "<Figure size 648x432 with 1 Axes>"
      ]
     },
     "metadata": {
      "needs_background": "light"
     },
     "output_type": "display_data"
    }
   ],
   "source": [
    "plt.subplots(figsize=(9,6))\n",
    "plt.bar(['2008', '2018'], [fe_08.mean(), fe_18.mean()], color=['teal', 'purple']);\n",
    "\n",
    "print(f\"There average fuel economy has improved by {np.round(fe_18.mean() - fe_08.mean(), 1)} MPG\")"
   ]
  },
  {
   "cell_type": "markdown",
   "metadata": {},
   "source": [
    "## Which type of vehicle's fuel economy has improved the most since 2008?"
   ]
  },
  {
   "cell_type": "code",
   "execution_count": null,
   "metadata": {},
   "outputs": [],
   "source": [
    "# Figure out a way to plot overlapping bins, so you can see the visual difference between data in your plot. \n",
    "# For example, This would be what the plot looks like:"
   ]
  },
  {
   "cell_type": "code",
   "execution_count": 123,
   "metadata": {},
   "outputs": [
    {
     "data": {
      "text/plain": [
       "small car        693\n",
       "SUV              648\n",
       "midsize car      278\n",
       "pickup           269\n",
       "large car        133\n",
       "station wagon    123\n",
       "van               58\n",
       "minivan           39\n",
       "Name: Veh_Class, dtype: int64"
      ]
     },
     "execution_count": 123,
     "metadata": {},
     "output_type": "execute_result"
    }
   ],
   "source": [
    "df_08.Veh_Class.value_counts()"
   ]
  },
  {
   "cell_type": "code",
   "execution_count": 122,
   "metadata": {
    "scrolled": true
   },
   "outputs": [
    {
     "data": {
      "text/plain": [
       "small car          602\n",
       "midsize car        288\n",
       "small SUV          217\n",
       "standard SUV       211\n",
       "pickup             181\n",
       "large car          178\n",
       "station wagon       67\n",
       "special purpose     27\n",
       "minivan              8\n",
       "Name: Veh_Class, dtype: int64"
      ]
     },
     "execution_count": 122,
     "metadata": {},
     "output_type": "execute_result"
    }
   ],
   "source": [
    "df_18.Veh_Class.value_counts()"
   ]
  },
  {
   "cell_type": "code",
   "execution_count": 124,
   "metadata": {},
   "outputs": [],
   "source": [
    "fe_08 = df_08.copy()\n",
    "fe_18 = df_18.copy()"
   ]
  },
  {
   "cell_type": "code",
   "execution_count": 125,
   "metadata": {},
   "outputs": [
    {
     "name": "stderr",
     "output_type": "stream",
     "text": [
      "C:\\Users\\rrhoa\\anaconda3\\lib\\site-packages\\pandas\\core\\frame.py:4166: SettingWithCopyWarning: \n",
      "A value is trying to be set on a copy of a slice from a DataFrame\n",
      "\n",
      "See the caveats in the documentation: https://pandas.pydata.org/pandas-docs/stable/user_guide/indexing.html#returning-a-view-versus-a-copy\n",
      "  return super().replace(\n"
     ]
    }
   ],
   "source": [
    "fe_08 = df_08.query('Veh_Class == \"minivan\"')\n",
    "fe_08.replace(to_replace='minivan', value='van', inplace=True)\n",
    "df_08.drop(fe_08.index, inplace=True)\n",
    "df_08 = df_08.append(fe_08, ignore_index=True)\n",
    "\n",
    "fe_18 = df_18.query('Veh_Class == \"minivan\"')\n",
    "fe_18.replace(to_replace='minivan', value='van', inplace=True)\n",
    "df_18.drop(fe_18.index, inplace=True)\n",
    "df_18 = df_18.append(fe_18, ignore_index=True)"
   ]
  },
  {
   "cell_type": "code",
   "execution_count": 127,
   "metadata": {},
   "outputs": [
    {
     "data": {
      "text/plain": [
       "van    97\n",
       "Name: Veh_Class, dtype: int64"
      ]
     },
     "execution_count": 127,
     "metadata": {},
     "output_type": "execute_result"
    }
   ],
   "source": [
    "df_08.query('Veh_Class == \"van\"').Veh_Class.value_counts()"
   ]
  },
  {
   "cell_type": "code",
   "execution_count": 128,
   "metadata": {},
   "outputs": [
    {
     "data": {
      "text/html": [
       "<div>\n",
       "<style scoped>\n",
       "    .dataframe tbody tr th:only-of-type {\n",
       "        vertical-align: middle;\n",
       "    }\n",
       "\n",
       "    .dataframe tbody tr th {\n",
       "        vertical-align: top;\n",
       "    }\n",
       "\n",
       "    .dataframe thead th {\n",
       "        text-align: right;\n",
       "    }\n",
       "</style>\n",
       "<table border=\"1\" class=\"dataframe\">\n",
       "  <thead>\n",
       "    <tr style=\"text-align: right;\">\n",
       "      <th></th>\n",
       "      <th>Model</th>\n",
       "      <th>Displ</th>\n",
       "      <th>Cyl</th>\n",
       "      <th>Trans</th>\n",
       "      <th>Drive</th>\n",
       "      <th>Fuel</th>\n",
       "      <th>Stnd</th>\n",
       "      <th>Underhood_ID</th>\n",
       "      <th>Veh_Class</th>\n",
       "      <th>Air_Pollution_Score</th>\n",
       "      <th>City_MPG</th>\n",
       "      <th>Hwy_MPG</th>\n",
       "      <th>Cmb_MPG</th>\n",
       "      <th>Greenhouse_Gas_Score</th>\n",
       "      <th>SmartWay</th>\n",
       "    </tr>\n",
       "  </thead>\n",
       "  <tbody>\n",
       "  </tbody>\n",
       "</table>\n",
       "</div>"
      ],
      "text/plain": [
       "Empty DataFrame\n",
       "Columns: [Model, Displ, Cyl, Trans, Drive, Fuel, Stnd, Underhood_ID, Veh_Class, Air_Pollution_Score, City_MPG, Hwy_MPG, Cmb_MPG, Greenhouse_Gas_Score, SmartWay]\n",
       "Index: []"
      ]
     },
     "execution_count": 128,
     "metadata": {},
     "output_type": "execute_result"
    }
   ],
   "source": [
    "df_18.drop(df_18.query('Veh_Class == \"special purpose\"').index, inplace=True)\n",
    "df_18.query('Veh_Class == \"special purpose\"')"
   ]
  },
  {
   "cell_type": "code",
   "execution_count": 129,
   "metadata": {},
   "outputs": [],
   "source": [
    "columns_to_change = ['small SUV', 'standard SUV']\n",
    "for c in range(len(columns_to_change)):\n",
    "    records = df_18[df_18['Veh_Class'] == columns_to_change[c]].copy()\n",
    "    records.replace(to_replace=columns_to_change[c], value='SUV', inplace=True)\n",
    "    df_18.drop(records.index, inplace=True)\n",
    "    df_18 = df_18.append(records)"
   ]
  },
  {
   "cell_type": "code",
   "execution_count": 130,
   "metadata": {
    "scrolled": true
   },
   "outputs": [
    {
     "data": {
      "text/html": [
       "<div>\n",
       "<style scoped>\n",
       "    .dataframe tbody tr th:only-of-type {\n",
       "        vertical-align: middle;\n",
       "    }\n",
       "\n",
       "    .dataframe tbody tr th {\n",
       "        vertical-align: top;\n",
       "    }\n",
       "\n",
       "    .dataframe thead th {\n",
       "        text-align: right;\n",
       "    }\n",
       "</style>\n",
       "<table border=\"1\" class=\"dataframe\">\n",
       "  <thead>\n",
       "    <tr style=\"text-align: right;\">\n",
       "      <th></th>\n",
       "      <th>Model</th>\n",
       "      <th>Displ</th>\n",
       "      <th>Cyl</th>\n",
       "      <th>Trans</th>\n",
       "      <th>Drive</th>\n",
       "      <th>Fuel</th>\n",
       "      <th>Stnd</th>\n",
       "      <th>Underhood_ID</th>\n",
       "      <th>Veh_Class</th>\n",
       "      <th>Air_Pollution_Score</th>\n",
       "      <th>City_MPG</th>\n",
       "      <th>Hwy_MPG</th>\n",
       "      <th>Cmb_MPG</th>\n",
       "      <th>Greenhouse_Gas_Score</th>\n",
       "      <th>SmartWay</th>\n",
       "    </tr>\n",
       "  </thead>\n",
       "  <tbody>\n",
       "  </tbody>\n",
       "</table>\n",
       "</div>"
      ],
      "text/plain": [
       "Empty DataFrame\n",
       "Columns: [Model, Displ, Cyl, Trans, Drive, Fuel, Stnd, Underhood_ID, Veh_Class, Air_Pollution_Score, City_MPG, Hwy_MPG, Cmb_MPG, Greenhouse_Gas_Score, SmartWay]\n",
       "Index: []"
      ]
     },
     "execution_count": 130,
     "metadata": {},
     "output_type": "execute_result"
    }
   ],
   "source": [
    "df_08.loc[df_08.Veh_Class == \"special purpose\"]"
   ]
  },
  {
   "cell_type": "code",
   "execution_count": null,
   "metadata": {},
   "outputs": [],
   "source": []
  },
  {
   "cell_type": "markdown",
   "metadata": {},
   "source": [
    "#### (2008) Average fuel economy by vehicle type"
   ]
  },
  {
   "cell_type": "code",
   "execution_count": 132,
   "metadata": {},
   "outputs": [
    {
     "data": {
      "text/plain": [
       "Veh_Class\n",
       "SUV              16\n",
       "large car        16\n",
       "midsize car      19\n",
       "pickup           14\n",
       "small car        18\n",
       "station wagon    20\n",
       "van              14\n",
       "Name: City_MPG, dtype: int64"
      ]
     },
     "execution_count": 132,
     "metadata": {},
     "output_type": "execute_result"
    }
   ],
   "source": [
    "vt_fe_08 = df_08.groupby('Veh_Class').City_MPG.mean().apply(lambda v:round(v))\n",
    "vt_fe_08"
   ]
  },
  {
   "cell_type": "markdown",
   "metadata": {},
   "source": [
    "#### (2018) Average fuel economy by vehicle type"
   ]
  },
  {
   "cell_type": "code",
   "execution_count": 133,
   "metadata": {
    "scrolled": true
   },
   "outputs": [
    {
     "data": {
      "text/plain": [
       "Veh_Class\n",
       "SUV              19\n",
       "large car        21\n",
       "midsize car      26\n",
       "pickup           16\n",
       "small car        24\n",
       "station wagon    25\n",
       "van              18\n",
       "Name: City_MPG, dtype: int64"
      ]
     },
     "execution_count": 133,
     "metadata": {},
     "output_type": "execute_result"
    }
   ],
   "source": [
    "vt_fe_18 = df_18.groupby('Veh_Class').City_MPG.mean().apply(lambda v:round(v))\n",
    "vt_fe_18"
   ]
  },
  {
   "cell_type": "code",
   "execution_count": 134,
   "metadata": {},
   "outputs": [
    {
     "data": {
      "image/png": "[encoded data removed]",
      "text/plain": [
       "<Figure size 1080x864 with 1 Axes>"
      ]
     },
     "metadata": {
      "needs_background": "light"
     },
     "output_type": "display_data"
    }
   ],
   "source": [
    "plt.subplots(figsize=(15, 12))\n",
    "plt.bar(vt_fe_18.index, vt_fe_18, color='red', alpha=0.7)\n",
    "plt.bar(vt_fe_08.index, vt_fe_08, color='blue', alpha=0.5)\n",
    "plt.title('(2008 vs 2018) Average Fuel Economy by Vehicle Type')\n",
    "plt.ylabel('Average Fuel Economy')\n",
    "plt.xlabel('Vehicle Type')\n",
    "plt.legend(['2008', '2018'], loc='best');"
   ]
  },
  {
   "cell_type": "code",
   "execution_count": null,
   "metadata": {},
   "outputs": [],
   "source": []
  },
  {
   "cell_type": "markdown",
   "metadata": {},
   "source": [
    "## Which model has the highest `air_pollution_score` and fuel economy in 2008 and 2018? Compare them. "
   ]
  },
  {
   "cell_type": "code",
   "execution_count": 148,
   "metadata": {},
   "outputs": [],
   "source": [
    "aps_08 = df_08.Air_Pollution_Score.max()\n",
    "mileage_08 = df_08.Cmb_MPG.max()"
   ]
  },
  {
   "cell_type": "code",
   "execution_count": 149,
   "metadata": {},
   "outputs": [],
   "source": [
    "best_08 = df_08.query(f'Air_Pollution_Score == {aps_08} and Cmb_MPG == {mileage_08}')\n",
    "best_model_08 = best_08.iloc[0].Model\n",
    "best_mpg_08 = best_08.iloc[0, 7:10]"
   ]
  },
  {
   "cell_type": "code",
   "execution_count": 151,
   "metadata": {},
   "outputs": [],
   "source": [
    "aps_18 = df_18.Air_Pollution_Score.max()\n",
    "mileage_18 = df_18.Cmb_MPG.max()"
   ]
  },
  {
   "cell_type": "code",
   "execution_count": 154,
   "metadata": {
    "scrolled": true
   },
   "outputs": [
    {
     "ename": "IndexError",
     "evalue": "positional indexers are out-of-bounds",
     "output_type": "error",
     "traceback": [
      "\u001b[1;31m---------------------------------------------------------------------------\u001b[0m",
      "\u001b[1;31mIndexError\u001b[0m                                Traceback (most recent call last)",
      "\u001b[1;32m~\\anaconda3\\lib\\site-packages\\pandas\\core\\indexing.py\u001b[0m in \u001b[0;36m_get_list_axis\u001b[1;34m(self, key, axis)\u001b[0m\n\u001b[0;32m   2110\u001b[0m         \u001b[1;32mtry\u001b[0m\u001b[1;33m:\u001b[0m\u001b[1;33m\u001b[0m\u001b[1;33m\u001b[0m\u001b[0m\n\u001b[1;32m-> 2111\u001b[1;33m             \u001b[1;32mreturn\u001b[0m \u001b[0mself\u001b[0m\u001b[1;33m.\u001b[0m\u001b[0mobj\u001b[0m\u001b[1;33m.\u001b[0m\u001b[0m_take_with_is_copy\u001b[0m\u001b[1;33m(\u001b[0m\u001b[0mkey\u001b[0m\u001b[1;33m,\u001b[0m \u001b[0maxis\u001b[0m\u001b[1;33m=\u001b[0m\u001b[0maxis\u001b[0m\u001b[1;33m)\u001b[0m\u001b[1;33m\u001b[0m\u001b[1;33m\u001b[0m\u001b[0m\n\u001b[0m\u001b[0;32m   2112\u001b[0m         \u001b[1;32mexcept\u001b[0m \u001b[0mIndexError\u001b[0m\u001b[1;33m:\u001b[0m\u001b[1;33m\u001b[0m\u001b[1;33m\u001b[0m\u001b[0m\n",
      "\u001b[1;32m~\\anaconda3\\lib\\site-packages\\pandas\\core\\generic.py\u001b[0m in \u001b[0;36m_take_with_is_copy\u001b[1;34m(self, indices, axis, **kwargs)\u001b[0m\n\u001b[0;32m   3408\u001b[0m         \"\"\"\n\u001b[1;32m-> 3409\u001b[1;33m         \u001b[0mresult\u001b[0m \u001b[1;33m=\u001b[0m \u001b[0mself\u001b[0m\u001b[1;33m.\u001b[0m\u001b[0mtake\u001b[0m\u001b[1;33m(\u001b[0m\u001b[0mindices\u001b[0m\u001b[1;33m=\u001b[0m\u001b[0mindices\u001b[0m\u001b[1;33m,\u001b[0m \u001b[0maxis\u001b[0m\u001b[1;33m=\u001b[0m\u001b[0maxis\u001b[0m\u001b[1;33m,\u001b[0m \u001b[1;33m**\u001b[0m\u001b[0mkwargs\u001b[0m\u001b[1;33m)\u001b[0m\u001b[1;33m\u001b[0m\u001b[1;33m\u001b[0m\u001b[0m\n\u001b[0m\u001b[0;32m   3410\u001b[0m         \u001b[1;31m# Maybe set copy if we didn't actually change the index.\u001b[0m\u001b[1;33m\u001b[0m\u001b[1;33m\u001b[0m\u001b[1;33m\u001b[0m\u001b[0m\n",
      "\u001b[1;32m~\\anaconda3\\lib\\site-packages\\pandas\\core\\generic.py\u001b[0m in \u001b[0;36mtake\u001b[1;34m(self, indices, axis, is_copy, **kwargs)\u001b[0m\n\u001b[0;32m   3393\u001b[0m \u001b[1;33m\u001b[0m\u001b[0m\n\u001b[1;32m-> 3394\u001b[1;33m         new_data = self._data.take(\n\u001b[0m\u001b[0;32m   3395\u001b[0m             \u001b[0mindices\u001b[0m\u001b[1;33m,\u001b[0m \u001b[0maxis\u001b[0m\u001b[1;33m=\u001b[0m\u001b[0mself\u001b[0m\u001b[1;33m.\u001b[0m\u001b[0m_get_block_manager_axis\u001b[0m\u001b[1;33m(\u001b[0m\u001b[0maxis\u001b[0m\u001b[1;33m)\u001b[0m\u001b[1;33m,\u001b[0m \u001b[0mverify\u001b[0m\u001b[1;33m=\u001b[0m\u001b[1;32mTrue\u001b[0m\u001b[1;33m\u001b[0m\u001b[1;33m\u001b[0m\u001b[0m\n",
      "\u001b[1;32m~\\anaconda3\\lib\\site-packages\\pandas\\core\\internals\\managers.py\u001b[0m in \u001b[0;36mtake\u001b[1;34m(self, indexer, axis, verify, convert)\u001b[0m\n\u001b[0;32m   1385\u001b[0m         \u001b[1;32mif\u001b[0m \u001b[0mconvert\u001b[0m\u001b[1;33m:\u001b[0m\u001b[1;33m\u001b[0m\u001b[1;33m\u001b[0m\u001b[0m\n\u001b[1;32m-> 1386\u001b[1;33m             \u001b[0mindexer\u001b[0m \u001b[1;33m=\u001b[0m \u001b[0mmaybe_convert_indices\u001b[0m\u001b[1;33m(\u001b[0m\u001b[0mindexer\u001b[0m\u001b[1;33m,\u001b[0m \u001b[0mn\u001b[0m\u001b[1;33m)\u001b[0m\u001b[1;33m\u001b[0m\u001b[1;33m\u001b[0m\u001b[0m\n\u001b[0m\u001b[0;32m   1387\u001b[0m \u001b[1;33m\u001b[0m\u001b[0m\n",
      "\u001b[1;32m~\\anaconda3\\lib\\site-packages\\pandas\\core\\indexers.py\u001b[0m in \u001b[0;36mmaybe_convert_indices\u001b[1;34m(indices, n)\u001b[0m\n\u001b[0;32m    212\u001b[0m     \u001b[1;32mif\u001b[0m \u001b[0mmask\u001b[0m\u001b[1;33m.\u001b[0m\u001b[0many\u001b[0m\u001b[1;33m(\u001b[0m\u001b[1;33m)\u001b[0m\u001b[1;33m:\u001b[0m\u001b[1;33m\u001b[0m\u001b[1;33m\u001b[0m\u001b[0m\n\u001b[1;32m--> 213\u001b[1;33m         \u001b[1;32mraise\u001b[0m \u001b[0mIndexError\u001b[0m\u001b[1;33m(\u001b[0m\u001b[1;34m\"indices are out-of-bounds\"\u001b[0m\u001b[1;33m)\u001b[0m\u001b[1;33m\u001b[0m\u001b[1;33m\u001b[0m\u001b[0m\n\u001b[0m\u001b[0;32m    214\u001b[0m     \u001b[1;32mreturn\u001b[0m \u001b[0mindices\u001b[0m\u001b[1;33m\u001b[0m\u001b[1;33m\u001b[0m\u001b[0m\n",
      "\u001b[1;31mIndexError\u001b[0m: indices are out-of-bounds",
      "\nDuring handling of the above exception, another exception occurred:\n",
      "\u001b[1;31mIndexError\u001b[0m                                Traceback (most recent call last)",
      "\u001b[1;32m<ipython-input-154-e4cf656237af>\u001b[0m in \u001b[0;36m<module>\u001b[1;34m\u001b[0m\n\u001b[1;32m----> 1\u001b[1;33m \u001b[0mbest_18\u001b[0m \u001b[1;33m=\u001b[0m \u001b[0mdf_18\u001b[0m\u001b[1;33m.\u001b[0m\u001b[0mquery\u001b[0m\u001b[1;33m(\u001b[0m\u001b[1;34mf'Air_Pollution_Score == {aps_18} and Cmb_MPG == {mileage_18}'\u001b[0m\u001b[1;33m)\u001b[0m\u001b[1;33m.\u001b[0m\u001b[0miloc\u001b[0m\u001b[1;33m[\u001b[0m\u001b[1;33m[\u001b[0m\u001b[1;36m0\u001b[0m\u001b[1;33m]\u001b[0m\u001b[1;33m]\u001b[0m\u001b[1;33m\u001b[0m\u001b[1;33m\u001b[0m\u001b[0m\n\u001b[0m\u001b[0;32m      2\u001b[0m \u001b[0mbest_model_18\u001b[0m \u001b[1;33m=\u001b[0m \u001b[0mbest_18\u001b[0m\u001b[1;33m.\u001b[0m\u001b[0miloc\u001b[0m\u001b[1;33m[\u001b[0m\u001b[1;36m0\u001b[0m\u001b[1;33m]\u001b[0m\u001b[1;33m.\u001b[0m\u001b[0mModel\u001b[0m\u001b[1;33m\u001b[0m\u001b[1;33m\u001b[0m\u001b[0m\n\u001b[0;32m      3\u001b[0m \u001b[0mbest_mpg_18\u001b[0m \u001b[1;33m=\u001b[0m \u001b[0mbest_18\u001b[0m\u001b[1;33m.\u001b[0m\u001b[0miloc\u001b[0m\u001b[1;33m[\u001b[0m\u001b[1;36m0\u001b[0m\u001b[1;33m,\u001b[0m \u001b[1;36m7\u001b[0m\u001b[1;33m:\u001b[0m\u001b[1;36m10\u001b[0m\u001b[1;33m]\u001b[0m\u001b[1;33m\u001b[0m\u001b[1;33m\u001b[0m\u001b[0m\n",
      "\u001b[1;32m~\\anaconda3\\lib\\site-packages\\pandas\\core\\indexing.py\u001b[0m in \u001b[0;36m__getitem__\u001b[1;34m(self, key)\u001b[0m\n\u001b[0;32m   1766\u001b[0m \u001b[1;33m\u001b[0m\u001b[0m\n\u001b[0;32m   1767\u001b[0m             \u001b[0mmaybe_callable\u001b[0m \u001b[1;33m=\u001b[0m \u001b[0mcom\u001b[0m\u001b[1;33m.\u001b[0m\u001b[0mapply_if_callable\u001b[0m\u001b[1;33m(\u001b[0m\u001b[0mkey\u001b[0m\u001b[1;33m,\u001b[0m \u001b[0mself\u001b[0m\u001b[1;33m.\u001b[0m\u001b[0mobj\u001b[0m\u001b[1;33m)\u001b[0m\u001b[1;33m\u001b[0m\u001b[1;33m\u001b[0m\u001b[0m\n\u001b[1;32m-> 1768\u001b[1;33m             \u001b[1;32mreturn\u001b[0m \u001b[0mself\u001b[0m\u001b[1;33m.\u001b[0m\u001b[0m_getitem_axis\u001b[0m\u001b[1;33m(\u001b[0m\u001b[0mmaybe_callable\u001b[0m\u001b[1;33m,\u001b[0m \u001b[0maxis\u001b[0m\u001b[1;33m=\u001b[0m\u001b[0maxis\u001b[0m\u001b[1;33m)\u001b[0m\u001b[1;33m\u001b[0m\u001b[1;33m\u001b[0m\u001b[0m\n\u001b[0m\u001b[0;32m   1769\u001b[0m \u001b[1;33m\u001b[0m\u001b[0m\n\u001b[0;32m   1770\u001b[0m     \u001b[1;32mdef\u001b[0m \u001b[0m_is_scalar_access\u001b[0m\u001b[1;33m(\u001b[0m\u001b[0mself\u001b[0m\u001b[1;33m,\u001b[0m \u001b[0mkey\u001b[0m\u001b[1;33m:\u001b[0m \u001b[0mTuple\u001b[0m\u001b[1;33m)\u001b[0m\u001b[1;33m:\u001b[0m\u001b[1;33m\u001b[0m\u001b[1;33m\u001b[0m\u001b[0m\n",
      "\u001b[1;32m~\\anaconda3\\lib\\site-packages\\pandas\\core\\indexing.py\u001b[0m in \u001b[0;36m_getitem_axis\u001b[1;34m(self, key, axis)\u001b[0m\n\u001b[0;32m   2127\u001b[0m         \u001b[1;31m# a list of integers\u001b[0m\u001b[1;33m\u001b[0m\u001b[1;33m\u001b[0m\u001b[1;33m\u001b[0m\u001b[0m\n\u001b[0;32m   2128\u001b[0m         \u001b[1;32melif\u001b[0m \u001b[0mis_list_like_indexer\u001b[0m\u001b[1;33m(\u001b[0m\u001b[0mkey\u001b[0m\u001b[1;33m)\u001b[0m\u001b[1;33m:\u001b[0m\u001b[1;33m\u001b[0m\u001b[1;33m\u001b[0m\u001b[0m\n\u001b[1;32m-> 2129\u001b[1;33m             \u001b[1;32mreturn\u001b[0m \u001b[0mself\u001b[0m\u001b[1;33m.\u001b[0m\u001b[0m_get_list_axis\u001b[0m\u001b[1;33m(\u001b[0m\u001b[0mkey\u001b[0m\u001b[1;33m,\u001b[0m \u001b[0maxis\u001b[0m\u001b[1;33m=\u001b[0m\u001b[0maxis\u001b[0m\u001b[1;33m)\u001b[0m\u001b[1;33m\u001b[0m\u001b[1;33m\u001b[0m\u001b[0m\n\u001b[0m\u001b[0;32m   2130\u001b[0m \u001b[1;33m\u001b[0m\u001b[0m\n\u001b[0;32m   2131\u001b[0m         \u001b[1;31m# a single integer\u001b[0m\u001b[1;33m\u001b[0m\u001b[1;33m\u001b[0m\u001b[1;33m\u001b[0m\u001b[0m\n",
      "\u001b[1;32m~\\anaconda3\\lib\\site-packages\\pandas\\core\\indexing.py\u001b[0m in \u001b[0;36m_get_list_axis\u001b[1;34m(self, key, axis)\u001b[0m\n\u001b[0;32m   2112\u001b[0m         \u001b[1;32mexcept\u001b[0m \u001b[0mIndexError\u001b[0m\u001b[1;33m:\u001b[0m\u001b[1;33m\u001b[0m\u001b[1;33m\u001b[0m\u001b[0m\n\u001b[0;32m   2113\u001b[0m             \u001b[1;31m# re-raise with different error message\u001b[0m\u001b[1;33m\u001b[0m\u001b[1;33m\u001b[0m\u001b[1;33m\u001b[0m\u001b[0m\n\u001b[1;32m-> 2114\u001b[1;33m             \u001b[1;32mraise\u001b[0m \u001b[0mIndexError\u001b[0m\u001b[1;33m(\u001b[0m\u001b[1;34m\"positional indexers are out-of-bounds\"\u001b[0m\u001b[1;33m)\u001b[0m\u001b[1;33m\u001b[0m\u001b[1;33m\u001b[0m\u001b[0m\n\u001b[0m\u001b[0;32m   2115\u001b[0m \u001b[1;33m\u001b[0m\u001b[0m\n\u001b[0;32m   2116\u001b[0m     \u001b[1;32mdef\u001b[0m \u001b[0m_getitem_axis\u001b[0m\u001b[1;33m(\u001b[0m\u001b[0mself\u001b[0m\u001b[1;33m,\u001b[0m \u001b[0mkey\u001b[0m\u001b[1;33m,\u001b[0m \u001b[0maxis\u001b[0m\u001b[1;33m:\u001b[0m \u001b[0mint\u001b[0m\u001b[1;33m)\u001b[0m\u001b[1;33m:\u001b[0m\u001b[1;33m\u001b[0m\u001b[1;33m\u001b[0m\u001b[0m\n",
      "\u001b[1;31mIndexError\u001b[0m: positional indexers are out-of-bounds"
     ]
    }
   ],
   "source": [
    "#I messed this up somehow so lets pretend my graph below is really cool. \n",
    "best_18 = df_18.query(f'Air_Pollution_Score == {aps_18} and Cmb_MPG == {mileage_18}').iloc[[0]]\n",
    "best_model_18 = best_18.iloc[0].Model\n",
    "best_mpg_18 = best_18.iloc[0, 7:10]"
   ]
  },
  {
   "cell_type": "code",
   "execution_count": 153,
   "metadata": {},
   "outputs": [
    {
     "data": {
      "text/plain": [
       "Underhood_ID           8TYXV01.5HC3\n",
       "Veh_Class               midsize car\n",
       "Air_Pollution_Score             9.5\n",
       "Name: 1861, dtype: object"
      ]
     },
     "execution_count": 153,
     "metadata": {},
     "output_type": "execute_result"
    }
   ],
   "source": [
    "best_mpg_08"
   ]
  },
  {
   "cell_type": "code",
   "execution_count": 155,
   "metadata": {},
   "outputs": [
    {
     "ename": "NameError",
     "evalue": "name 'best_model_18' is not defined",
     "output_type": "error",
     "traceback": [
      "\u001b[1;31m---------------------------------------------------------------------------\u001b[0m",
      "\u001b[1;31mNameError\u001b[0m                                 Traceback (most recent call last)",
      "\u001b[1;32m<ipython-input-155-6550d505a93d>\u001b[0m in \u001b[0;36m<module>\u001b[1;34m\u001b[0m\n\u001b[1;32m----> 1\u001b[1;33m \u001b[0mcars\u001b[0m \u001b[1;33m=\u001b[0m \u001b[1;33m[\u001b[0m\u001b[1;34mf'{best_model_08} (2008)'\u001b[0m\u001b[1;33m,\u001b[0m \u001b[1;34mf'{best_model_18} (2018)'\u001b[0m\u001b[1;33m]\u001b[0m\u001b[1;33m\u001b[0m\u001b[1;33m\u001b[0m\u001b[0m\n\u001b[0m\u001b[0;32m      2\u001b[0m \u001b[1;33m\u001b[0m\u001b[0m\n\u001b[0;32m      3\u001b[0m \u001b[0mplt\u001b[0m\u001b[1;33m.\u001b[0m\u001b[0msubplots\u001b[0m\u001b[1;33m(\u001b[0m\u001b[0mfigsize\u001b[0m\u001b[1;33m=\u001b[0m\u001b[1;33m(\u001b[0m\u001b[1;36m15\u001b[0m\u001b[1;33m,\u001b[0m \u001b[1;36m12\u001b[0m\u001b[1;33m)\u001b[0m\u001b[1;33m)\u001b[0m\u001b[1;33m\u001b[0m\u001b[1;33m\u001b[0m\u001b[0m\n\u001b[0;32m      4\u001b[0m \u001b[0mplt\u001b[0m\u001b[1;33m.\u001b[0m\u001b[0mbar\u001b[0m\u001b[1;33m(\u001b[0m\u001b[0mbest_mpg_08\u001b[0m\u001b[1;33m.\u001b[0m\u001b[0mindex\u001b[0m\u001b[1;33m,\u001b[0m \u001b[0mbest_mpg_08\u001b[0m\u001b[1;33m,\u001b[0m \u001b[0mcolor\u001b[0m\u001b[1;33m=\u001b[0m\u001b[1;34m'red'\u001b[0m\u001b[1;33m,\u001b[0m \u001b[0malpha\u001b[0m\u001b[1;33m=\u001b[0m\u001b[1;36m0.7\u001b[0m\u001b[1;33m)\u001b[0m\u001b[1;33m\u001b[0m\u001b[1;33m\u001b[0m\u001b[0m\n\u001b[0;32m      5\u001b[0m \u001b[0mplt\u001b[0m\u001b[1;33m.\u001b[0m\u001b[0mbar\u001b[0m\u001b[1;33m(\u001b[0m\u001b[0mbest_mpg_18\u001b[0m\u001b[1;33m.\u001b[0m\u001b[0mindex\u001b[0m\u001b[1;33m,\u001b[0m \u001b[0mbest_mpg_18\u001b[0m\u001b[1;33m,\u001b[0m \u001b[0mcolor\u001b[0m\u001b[1;33m=\u001b[0m\u001b[1;34m'blue'\u001b[0m\u001b[1;33m,\u001b[0m \u001b[0malpha\u001b[0m\u001b[1;33m=\u001b[0m\u001b[1;36m0.5\u001b[0m\u001b[1;33m)\u001b[0m\u001b[1;33m\u001b[0m\u001b[1;33m\u001b[0m\u001b[0m\n",
      "\u001b[1;31mNameError\u001b[0m: name 'best_model_18' is not defined"
     ]
    }
   ],
   "source": [
    "cars = [f'{best_model_08} (2008)', f'{best_model_18} (2018)']\n",
    "\n",
    "plt.subplots(figsize=(15, 12))\n",
    "plt.bar(best_mpg_08.index, best_mpg_08, color='red', alpha=0.7)\n",
    "plt.bar(best_mpg_18.index, best_mpg_18, color='blue', alpha=0.5)\n",
    "plt.title('Most Economic Cars by Year')\n",
    "plt.ylabel('Combined MPG')\n",
    "plt.xlabel('Vehicle Model')\n",
    "plt.legend(cars, loc='best');"
   ]
  },
  {
   "cell_type": "code",
   "execution_count": null,
   "metadata": {},
   "outputs": [],
   "source": []
  },
  {
   "cell_type": "code",
   "execution_count": null,
   "metadata": {},
   "outputs": [],
   "source": []
  }
 ],
 "metadata": {
  "kernelspec": {
   "display_name": "Python 3",
   "language": "python",
   "name": "python3"
  },
  "language_info": {
   "codemirror_mode": {
    "name": "ipython",
    "version": 3
   },
   "file_extension": ".py",
   "mimetype": "text/x-python",
   "name": "python",
   "nbconvert_exporter": "python",
   "pygments_lexer": "ipython3",
   "version": "3.8.3"
  }
 },
 "nbformat": 4,
 "nbformat_minor": 2
}
